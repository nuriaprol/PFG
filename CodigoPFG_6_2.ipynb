{
  "cells": [
    {
      "cell_type": "markdown",
      "metadata": {
        "id": "view-in-github",
        "colab_type": "text"
      },
      "source": [
        "<a href=\"https://colab.research.google.com/github/nuriaprol/PFG/blob/main/CodigoPFG_6_2.ipynb\" target=\"_parent\"><img src=\"https://colab.research.google.com/assets/colab-badge.svg\" alt=\"Open In Colab\"/></a>"
      ]
    },
    {
      "cell_type": "markdown",
      "metadata": {
        "id": "Sle0aWguAK2G"
      },
      "source": [
        "#Librerías"
      ]
    },
    {
      "cell_type": "code",
      "execution_count": null,
      "metadata": {
        "colab": {
          "background_save": true
        },
        "id": "xg6z_2M8TSjs"
      },
      "outputs": [],
      "source": [
        "import numpy as np\n",
        "import pandas as pd\n",
        "import seaborn as sns\n",
        "import plotly.graph_objects as go\n",
        "import matplotlib.pyplot as plt\n",
        "from sklearn.pipeline import make_pipeline\n",
        "from sklearn.datasets import make_regression\n",
        "from sklearn.linear_model import SGDRegressor\n",
        "from sklearn.preprocessing import StandardScaler\n",
        "from sklearn.model_selection import train_test_split\n",
        "from sklearn.model_selection import cross_val_predict, KFold\n",
        "from sklearn.metrics import mean_squared_error, mean_absolute_error, r2_score, roc_curve, auc, confusion_matrix\n",
        "from statsmodels.tsa.seasonal import seasonal_decompose\n",
        "from sklearn.preprocessing import MinMaxScaler\n",
        "from statsmodels.tsa.stattools import adfuller\n",
        "from statsmodels.graphics.tsaplots import plot_acf, plot_pacf\n",
        "from datetime import date\n",
        "\n",
        "from prophet import Prophet\n",
        "from sklearn.ensemble import RandomForestRegressor\n",
        "import plotly.express as px\n",
        "\n",
        "!pip install xgboost\n",
        "from xgboost import XGBRegressor\n",
        "from sklearn.metrics import mean_squared_error, mean_absolute_error\n",
        "\n",
        "from prophet import Prophet\n",
        "\n",
        "from sklearn.model_selection import GridSearchCV\n",
        "from sklearn.ensemble import RandomForestRegressor"
      ]
    },
    {
      "cell_type": "markdown",
      "metadata": {
        "id": "SjPpN_s1cGR7"
      },
      "source": [
        "#Carga de datos\n"
      ]
    },
    {
      "cell_type": "markdown",
      "metadata": {
        "id": "LGD221ylc2jF"
      },
      "source": [
        "##Carga de BRP y Generadoras\n"
      ]
    },
    {
      "cell_type": "code",
      "execution_count": null,
      "metadata": {
        "colab": {
          "background_save": true
        },
        "id": "31DEWiroTscB"
      },
      "outputs": [],
      "source": [
        "datosBRP = pd.read_csv('datosBRP (1).csv', delimiter=';', decimal=',')\n",
        "\n",
        "\n",
        "\n",
        "#Pasamos a numérico las columnas necesarias para hacer el análisis\n",
        "datosBRP['cargo de regulación'] = pd.to_numeric(datosBRP['cargo de regulación'], errors='coerce')\n",
        "datosBRP[\"desviacion por defecto\"] = pd.to_numeric(datosBRP[\"desviacion por defecto\"], errors=\"coerce\")\n",
        "datosBRP[\"desviacion por exceso\"] = pd.to_numeric(datosBRP[\"desviacion por exceso\"], errors=\"coerce\")\n",
        "\n",
        "#Desviación total es la suma de ambas desviaciones\n",
        "datosBRP[\"desviacion total\"] = datosBRP[\"desviacion por defecto\"] + datosBRP[\"desviacion por exceso\"]\n",
        "print(datosBRP[[\"desviacion por defecto\", \"desviacion por exceso\", \"desviacion total\"]].head())\n",
        "\n",
        "datosBRP = datosBRP.dropna()\n",
        "datosBRP.head()"
      ]
    },
    {
      "cell_type": "code",
      "execution_count": null,
      "metadata": {
        "colab": {
          "background_save": true
        },
        "id": "LFUqNQyUT007"
      },
      "outputs": [],
      "source": [
        "datos_generacion = pd.read_csv(\"Breakdown of Production_20240314_20250314.csv\", sep=';', skiprows=1, header=1, encoding='utf-8')\n",
        "\n",
        "datos_generacion = datos_generacion.dropna()\n",
        "datos_generacion.head()"
      ]
    },
    {
      "cell_type": "code",
      "execution_count": null,
      "metadata": {
        "colab": {
          "background_save": true
        },
        "id": "PcOrl8RlVmtD"
      },
      "outputs": [],
      "source": [
        "datosBRP.info()"
      ]
    },
    {
      "cell_type": "code",
      "execution_count": null,
      "metadata": {
        "colab": {
          "background_save": true
        },
        "id": "qZ40Hj4DNORA"
      },
      "outputs": [],
      "source": [
        "datos_generacion.info()"
      ]
    },
    {
      "cell_type": "markdown",
      "metadata": {
        "id": "P125Mol8O-gM"
      },
      "source": [
        "##Unión BBDD\n"
      ]
    },
    {
      "cell_type": "markdown",
      "metadata": {
        "id": "-g2C3i1mX3W6"
      },
      "source": [
        "Se van a unir las bases de datos para poder trabajar con solo una variables. Primero es necesario pasar la base de datos de generación de cuartohoraria a horaria. Al tratarse de potencia (MW) los valores no se deben sumar si no calcular la potencia media de esa hora."
      ]
    },
    {
      "cell_type": "code",
      "execution_count": null,
      "metadata": {
        "colab": {
          "background_save": true
        },
        "id": "HZNd2YR9PBkY"
      },
      "outputs": [],
      "source": [
        "#Obtener mismo formato que la base de datos DatosBRP\n",
        "datos_generacion[\"Date and Time\"] = pd.to_datetime(datos_generacion[\"Date and Time\"])\n",
        "\n",
        "#Se extraen la fecha y la hora\n",
        "datos_generacion[\"Fecha_Prev\"] = datos_generacion[\"Date and Time\"].dt.date\n",
        "datos_generacion[\"Hora\"] = datos_generacion[\"Date and Time\"].dt.hour + 1 #La hora 1 corresponde de 00:00 a 00:59\n",
        "datos_generacion[\"Fecha_Prev\"] = pd.to_datetime(datos_generacion[\"Fecha_Prev\"]).dt.strftime(\"%-d/%-m/%Y\")\n",
        "\n",
        "#Se agrupan por fecha y hora para pasar de formato cuartohorario a horario\n",
        "#Se hace la media porque están en MW y no en MWh, por lo que así obtenemos la potencia media por hora.\n",
        "datos_generacion = datos_generacion.groupby([\"Fecha_Prev\", \"Hora\"]).mean(numeric_only=True).reset_index()\n",
        "\n",
        "# Eliminar columna original\n",
        "if \"Date and Time\" in datos_generacion.columns:\n",
        "    datos_generacion = datos_generacion.drop(columns=[\"Date and Time\"])\n",
        "\n",
        "# Convertir de string a datetime, asumiendo que el formato original es día/mes/año\n",
        "datos_generacion[\"Fecha_Prev\"] = pd.to_datetime(datos_generacion[\"Fecha_Prev\"], dayfirst=True)\n",
        "\n",
        "# Luego convertir a string en formato 14/03/2024\n",
        "datos_generacion[\"Fecha_Prev\"] = datos_generacion[\"Fecha_Prev\"].dt.strftime(\"%d/%m/%Y\")"
      ]
    },
    {
      "cell_type": "markdown",
      "metadata": {
        "id": "k6KeBXtWZ6_V"
      },
      "source": [
        "Buscamos obtener 8784 registros porque estamos trabajando del 14/03/2024 al 14/03/2025, son 365 días más 1 más por estar el 14 dos veces.\n",
        "Entonces 24h x 366d = 8784 registros"
      ]
    },
    {
      "cell_type": "code",
      "execution_count": null,
      "metadata": {
        "colab": {
          "background_save": true
        },
        "id": "G-JH-D6GZ2o-"
      },
      "outputs": [],
      "source": [
        "len(datos_generacion)"
      ]
    },
    {
      "cell_type": "code",
      "execution_count": null,
      "metadata": {
        "colab": {
          "background_save": true
        },
        "id": "xffEyAQcRDTk"
      },
      "outputs": [],
      "source": [
        "len(datosBRP)"
      ]
    },
    {
      "cell_type": "markdown",
      "metadata": {
        "id": "WTeeUQ5zZ56U"
      },
      "source": [
        "Hay un dato faltante en datos generación, probamos a ver si es la hora 2 del 31 de marzo de 2024, que fue cuando se realizo el cambio horario de verano, donde se pasó de la 1am directamente a las 3am"
      ]
    },
    {
      "cell_type": "code",
      "execution_count": null,
      "metadata": {
        "colab": {
          "background_save": true
        },
        "id": "F3zETeayRZdr"
      },
      "outputs": [],
      "source": [
        "# Buscar el dato del 31/03/2024 y hora 2 (Cambia de hora verano)\n",
        "dato_buscado = datos_generacion[(datos_generacion[\"Fecha_Prev\"] == pd.to_datetime(\"2024-03-31\").date()) &\n",
        "                           (datos_generacion[\"Hora\"] == 2)]\n",
        "\n",
        "dato_buscado"
      ]
    },
    {
      "cell_type": "markdown",
      "metadata": {
        "id": "PX8OCbMQbtKn"
      },
      "source": [
        "Pata completar este dato y tener los mismos registros en ambas bases de datos, se completará la hora 2 faltante con la media de la hora 1 y la hora 3."
      ]
    },
    {
      "cell_type": "code",
      "execution_count": null,
      "metadata": {
        "colab": {
          "background_save": true
        },
        "id": "Uzse9rZBPix6"
      },
      "outputs": [],
      "source": [
        "# Filtrar horas 1 y 3 del 31 de marzo de 2024\n",
        "h1 = datos_generacion[(datos_generacion[\"Fecha_Prev\"] == \"31/03/2024\") & (datos_generacion[\"Hora\"] == 1)]\n",
        "h3 = datos_generacion[(datos_generacion[\"Fecha_Prev\"] == \"31/03/2024\") & (datos_generacion[\"Hora\"] == 3)]\n",
        "\n",
        "#Calcular la media entre las dos filas (sin tocar Fecha_Prev ni Hora)\n",
        "media_valores = (h1.iloc[0, 2:] + h3.iloc[0, 2:]) / 2\n",
        "\n",
        "# Crear nueva fila copiando de una de las existentes\n",
        "nueva_fila = h1.copy()\n",
        "nueva_fila[\"Hora\"] = 2\n",
        "nueva_fila.iloc[0, 2:] = media_valores\n",
        "\n",
        "# Añadir al DataFrame original\n",
        "datos_generacion = pd.concat([datos_generacion, nueva_fila], ignore_index=True)\n",
        "\n",
        "# Reordenar por fecha y hora\n",
        "datos_generacion = datos_generacion.sort_values(by=[\"Fecha_Prev\", \"Hora\"]).reset_index(drop=True)\n",
        "len(datos_generacion)\n"
      ]
    },
    {
      "cell_type": "markdown",
      "metadata": {
        "id": "8YwizY_GcdFT"
      },
      "source": [
        "Como se había tomado en cuenta el cambio de hora de veano buscamos también ek de invierno, donde a las 3:00 de la madrugada, los relojes se atrasaron una hora, volviendo a marcar las 2:00. Ocasionando así la hora 25 de ese día"
      ]
    },
    {
      "cell_type": "code",
      "execution_count": null,
      "metadata": {
        "colab": {
          "background_save": true
        },
        "id": "PYZvmC57UhCD"
      },
      "outputs": [],
      "source": [
        "dato_buscado = datosBRP[(datosBRP[\"Fecha_Prev\"] == \"27/10/2024\")]\n",
        "#& (datosBRP[\"Hora\"] == 25)]\n",
        "dato_buscado"
      ]
    },
    {
      "cell_type": "code",
      "execution_count": null,
      "metadata": {
        "colab": {
          "background_save": true
        },
        "id": "VJXfFrdZUnII"
      },
      "outputs": [],
      "source": [
        "datosBRP = datosBRP[~((datosBRP[\"Fecha_Prev\"] ==\"27/10/2024\") & (datosBRP[\"Hora\"] == 25))]"
      ]
    },
    {
      "cell_type": "code",
      "execution_count": null,
      "metadata": {
        "colab": {
          "background_save": true
        },
        "id": "XFqfc0jST-oS"
      },
      "outputs": [],
      "source": [
        "# Filtrar las filas de interés\n",
        "h1 = datosBRP[(datosBRP[\"Fecha_Prev\"] == \"31/03/2024\") & (datosBRP[\"Hora\"] == 23)]\n",
        "h3 = datosBRP[(datosBRP[\"Fecha_Prev\"] == \"01/04/2024\") & (datosBRP[\"Hora\"] == 1)]\n",
        "\n",
        "if not h1.empty and not h3.empty:\n",
        "    # Convertir columnas numéricas para el cálculo\n",
        "    vals1 = pd.to_numeric(h1.iloc[0, 2:], errors='coerce')\n",
        "    vals2 = pd.to_numeric(h3.iloc[0, 2:], errors='coerce')\n",
        "    media_valores = (vals1 + vals2) / 2\n",
        "\n",
        "    # Crear la nueva fila con la media\n",
        "    nueva_fila = h1.copy()\n",
        "    nueva_fila[\"Hora\"] = 24\n",
        "    nueva_fila.iloc[0, 2:] = media_valores\n",
        "\n",
        "    # Añadir al DataFrame original\n",
        "    datosBRP = pd.concat([datosBRP, nueva_fila], ignore_index=True)\n",
        "    datosBRP = datosBRP.sort_values(by=[\"Fecha_Prev\", \"Hora\"]).reset_index(drop=True)\n",
        "    print(\"Fila interpolada agregada correctamente.\")\n",
        "else:\n",
        "    print(\"No se encontraron ambas filas necesarias para interpolar.\")\n"
      ]
    },
    {
      "cell_type": "code",
      "execution_count": null,
      "metadata": {
        "colab": {
          "background_save": true
        },
        "id": "SeEctVstQdBW"
      },
      "outputs": [],
      "source": [
        "len(datos_generacion), len(datosBRP)"
      ]
    },
    {
      "cell_type": "code",
      "execution_count": null,
      "metadata": {
        "colab": {
          "background_save": true
        },
        "id": "zQ17OcktYvYC"
      },
      "outputs": [],
      "source": [
        "# Corregir formato inconsistente en datosBRP\n",
        "datosBRP[\"Fecha_Prev\"] = pd.to_datetime(datosBRP[\"Fecha_Prev\"], format=\"mixed\", dayfirst=True).dt.strftime(\"%d/%m/%Y\")\n",
        "datos_generacion[\"Fecha_Prev\"] = pd.to_datetime(datos_generacion[\"Fecha_Prev\"], format=\"mixed\", dayfirst=True).dt.strftime(\"%d/%m/%Y\")\n",
        "\n",
        "\n",
        "# Hacer el merge\n",
        "df_unido = datosBRP.merge(datos_generacion, on=[\"Fecha_Prev\", \"Hora\"], how=\"inner\")\n",
        "print(len(df_unido))\n"
      ]
    },
    {
      "cell_type": "code",
      "execution_count": null,
      "metadata": {
        "colab": {
          "background_save": true
        },
        "id": "ilPA4wqVVrXz"
      },
      "outputs": [],
      "source": [
        "df_unido.head()"
      ]
    },
    {
      "cell_type": "code",
      "execution_count": null,
      "metadata": {
        "colab": {
          "background_save": true
        },
        "id": "G48GU5HDvxEf"
      },
      "outputs": [],
      "source": [
        "# Conjuntos de claves (fecha, hora)\n",
        "claves_brp = set(zip(datosBRP[\"Fecha_Prev\"], datosBRP[\"Hora\"]))\n",
        "claves_generacion = set(zip(datos_generacion[\"Fecha_Prev\"], datos_generacion[\"Hora\"]))\n",
        "claves_unidas = set(zip(df_unido[\"Fecha_Prev\"], df_unido[\"Hora\"]))\n",
        "claves_perdidas = claves_brp - claves_unidas\n",
        "print(f\"🔍 Total de filas perdidas en el merge: {len(claves_perdidas)}\")\n",
        "\n",
        "# Filas de datosBRP que no están en el df_unido\n",
        "perdidas_df = datosBRP[datosBRP[[\"Fecha_Prev\", \"Hora\"]].apply(tuple, axis=1).isin(claves_perdidas)]\n",
        "perdidas_df.head()\n"
      ]
    },
    {
      "cell_type": "markdown",
      "metadata": {
        "id": "0HwR4wrHgiUE"
      },
      "source": [
        "Vamos a hacer ahora la suma total de todas las columnas para ver si hay alguna columna que no tenga valores y eliminarla."
      ]
    },
    {
      "cell_type": "code",
      "execution_count": null,
      "metadata": {
        "colab": {
          "background_save": true
        },
        "id": "Eqzf501cWI6U"
      },
      "outputs": [],
      "source": [
        "try:\n",
        "    resumen_sumas = df_unido.select_dtypes(include='number').sum().to_frame(name=\"Suma_total\")\n",
        "except NameError:\n",
        "    resumen_sumas = pd.DataFrame({\"Error\": [\"df_unido no está definido. Ejecuta el merge primero.\"]})\n",
        "\n",
        "print(resumen_sumas)"
      ]
    },
    {
      "cell_type": "markdown",
      "metadata": {
        "id": "is1Tl2aZgpEp"
      },
      "source": [
        "Tanto wave como coal tiene potencia 0 durante todo el año por lo que no son relevantes y las eliminamos."
      ]
    },
    {
      "cell_type": "code",
      "execution_count": null,
      "metadata": {
        "colab": {
          "background_save": true
        },
        "id": "WAhmEQEPWQGW"
      },
      "outputs": [],
      "source": [
        "df_unido = df_unido.drop(columns=[\"Wave\", \"Coal\"], errors=\"ignore\")"
      ]
    },
    {
      "cell_type": "markdown",
      "metadata": {
        "id": "KBV-exgg8V3l"
      },
      "source": [
        "#ANÁLISIS EXPLORATORIO\n"
      ]
    },
    {
      "cell_type": "markdown",
      "metadata": {
        "id": "CArcWfEP1bEQ"
      },
      "source": [
        "##Distribuciones"
      ]
    },
    {
      "cell_type": "markdown",
      "metadata": {
        "id": "yqcP2t2Yg2em"
      },
      "source": [
        "Para comenzar con el análisis exploratorio de los datos disponibles, se procede al estudio de las distribuciones empíricas de cinco variables clave dentro del sistema eléctrico: \"pool\" (precio del mercado mayorista), \"conteo\" (energía programada), \"posición final\" (energía realmente consumida), \"desviación total\" (diferencia entre lo programado y lo consumido), y \"cargo de regulación\" (coste imputado por la activación de reservas del sistema).\n",
        "\n",
        "Este análisis tiene como objetivo identificar el comportamiento estadístico de cada variable, detectar la presencia de valores extremos (outliers) y comprender las posibles relaciones entre ellas. A través de representaciones gráficas como histogramas y diagramas de caja (boxplots), se observará el grado de simetría,  y sesgo de las distribuciones.\n",
        "\n",
        "En particular, la variable \"cargo de regulación\" será objeto de especial atención, ya que representa la variable objetivo del análisis. Su alta variabilidad y la presencia de valores atípicos negativos requieren un tratamiento estadístico cuidadoso para no distorsionar los modelos y obtener interpretaciones robustas sobre los factores que inciden en su evolución.\n",
        "\n",
        "\n",
        "\n"
      ]
    },
    {
      "cell_type": "code",
      "execution_count": null,
      "metadata": {
        "colab": {
          "background_save": true
        },
        "id": "tr5cpgVhzG8Q"
      },
      "outputs": [],
      "source": [
        "# Lista de variables a analizar\n",
        "variables_a_estudiar = [\n",
        "    \"pool\",\n",
        "    \"conteo\",\n",
        "    \"posicion final\",\n",
        "    \"desviacion total\",\n",
        "    \"cargo de regulación\"\n",
        "]\n",
        "\n",
        "# Histograma + curva de densidad con seaborn\n",
        "for var in variables_a_estudiar:\n",
        "    plt.figure(figsize=(8, 4))\n",
        "    sns.histplot(df_unido[var], kde=True, bins=50, color=\"skyblue\")\n",
        "    plt.title(f\"Distribución de la variable: {var}\")\n",
        "    plt.xlabel(var)\n",
        "    plt.ylabel(\"Frecuencia\")\n",
        "    plt.grid(True)\n",
        "    plt.tight_layout()\n",
        "    plt.show()\n"
      ]
    },
    {
      "cell_type": "markdown",
      "metadata": {
        "id": "QscZ-Qp51fS-"
      },
      "source": [
        "El precio del pool presenta una distribución asimétrica hacia la derecha, con valores bajos predominantes y picos puntuales que superan los 200 €/MWh, típicos de tensiones entre oferta y demanda.\n",
        "La variable conteo muestra una distribución estable y moderadamente dispersa, mientras que la posición final presenta mayor variabilidad, lo que indica diferencias entre lo programado y lo realmente consumido.\n",
        "La desviación total sigue una distribución aproximadamente simétrica centrada en cero, coherente con un sistema donde los desvíos tienden a compensarse.\n",
        "En cambio, el cargo de regulación presenta una distribución fuertemente asimétrica con valores atípicos negativos muy extremos, lo que requiere un tratamiento específico de outliers para evitar distorsiones en el análisis."
      ]
    },
    {
      "cell_type": "markdown",
      "metadata": {
        "id": "IdAR4KCumj50"
      },
      "source": [
        "##Boxplots y outliers\n",
        "A partir de los diagramas de caja (boxplots), es posible visualizar con mayor claridad la presencia, cantidad y ubicación de los valores atípicos en las diferentes variables analizadas."
      ]
    },
    {
      "cell_type": "code",
      "execution_count": null,
      "metadata": {
        "colab": {
          "background_save": true
        },
        "id": "siOeFvGc1eqe"
      },
      "outputs": [],
      "source": [
        "for var in variables_a_estudiar:\n",
        "    plt.figure(figsize=(8, 1.5))\n",
        "    sns.boxplot(x=datosBRP[var], color=\"skyblue\")\n",
        "    plt.title(f\"Boxplot de la variable: {var}\")\n",
        "    plt.grid(True)\n",
        "    plt.tight_layout()\n",
        "    plt.show()"
      ]
    },
    {
      "cell_type": "markdown",
      "metadata": {
        "id": "cqwGHnJGl6dM"
      },
      "source": [
        "Dado que estos datos han sido contrastados con otras fuentes y se ha verificado su validez, no se procederá a eliminarlos del análisis."
      ]
    },
    {
      "cell_type": "code",
      "execution_count": null,
      "metadata": {
        "colab": {
          "background_save": true
        },
        "id": "zqx3RWVq1tXh"
      },
      "outputs": [],
      "source": [
        "# Cálculo de IQR\n",
        "Q1 = df_unido[\"cargo de regulación\"].quantile(0.25)\n",
        "Q3 = df_unido[\"cargo de regulación\"].quantile(0.75)\n",
        "IQR = Q3 - Q1\n",
        "\n",
        "# Definir umbrales para outliers\n",
        "limite_inferior = Q1 - 1.5 * IQR\n",
        "limite_superior = Q3 + 1.5 * IQR\n",
        "\n",
        "# Filtrar outliers\n",
        "outliers = df_unido[(df_unido[\"cargo de regulación\"] < limite_inferior) |\n",
        "                    (df_unido[\"cargo de regulación\"] > limite_superior)]\n",
        "\n",
        "print(f\"Número total de registros: {len(df_unido)}\")\n",
        "print(f\"Número de outliers detectados: {len(outliers)}\")\n",
        "print(f\"Porcentaje de outliers: {100 * len(outliers) / len(df_unido):.2f}%\")\n",
        "\n",
        "# Mostrar los 10 valores más bajos y más altos\n",
        "outliers_extremos_ordenados = pd.concat([\n",
        "    outliers.nsmallest(10, \"cargo de regulación\"),\n",
        "    outliers.nlargest(10, \"cargo de regulación\")\n",
        "])\n",
        "print(outliers_extremos_ordenados)\n"
      ]
    },
    {
      "cell_type": "markdown",
      "metadata": {
        "id": "MlAHQiAnm9-Y"
      },
      "source": [
        "Los registros que se encuentran fuera de estos umbrales fueron clasificados como valores atípicos. Como resultado, se identificaron 414 outliers de un total de 8784 observaciones, lo que equivale aproximadamente al 4.71% del conjunto de datos.\n",
        "\n",
        "El análisis de los 10 valores extremos del “cargo de regulación” revela que muchos coinciden con festivos, fines de semana o franjas nocturnas de baja generación renovable. Estos factores parecen contribuir a desequilibrios en el sistema, reforzando la hipótesis de que condiciones externas influyen en la aparición de estos picos atípicos."
      ]
    },
    {
      "cell_type": "code",
      "execution_count": null,
      "metadata": {
        "colab": {
          "background_save": true
        },
        "id": "PKEj4yxW4FhU"
      },
      "outputs": [],
      "source": [
        "df_outliers = df_unido.copy()\n",
        "\n",
        "# Función para identificar outliers por IQR\n",
        "def detectar_outliers_iqr(serie):\n",
        "    Q1 = serie.quantile(0.25)\n",
        "    Q3 = serie.quantile(0.75)\n",
        "    IQR = Q3 - Q1\n",
        "    lim_inf = Q1 - 1.5 * IQR\n",
        "    lim_sup = Q3 + 1.5 * IQR\n",
        "    return (serie < lim_inf) | (serie > lim_sup)\n",
        "\n",
        "# Aplicar función para cada variable\n",
        "for var in variables_a_estudiar:\n",
        "    df_outliers[f\"outlier_{var}\"] = detectar_outliers_iqr(df_outliers[var])\n",
        "\n",
        "# Calcular número total de outliers por fila\n",
        "cols_outliers = [f\"outlier_{v}\" for v in variables_a_estudiar]\n",
        "df_outliers[\"n_outliers\"] = df_outliers[cols_outliers].sum(axis=1)\n",
        "\n",
        "# Filtrar\n",
        "df_cargo_outliers = df_outliers[df_outliers[\"outlier_cargo de regulación\"] == True]\n",
        "df_cargo_y_otro = df_cargo_outliers[df_cargo_outliers[\"n_outliers\"] > 1]\n",
        "\n",
        "# Heatmap\n",
        "df_heat = df_cargo_y_otro[cols_outliers].head(73)\n",
        "plt.figure(figsize=(10, 6))\n",
        "sns.heatmap(df_heat.astype(int), cmap=\"Blues\", cbar=False, linewidths=0.5, linecolor=\"gray\")\n",
        "plt.title(\"Registros que son outlier en cargo de regulación y otra(s) variable(s)\")\n",
        "plt.xlabel(\"Variable\")\n",
        "plt.ylabel(\"Registro\")\n",
        "plt.xticks(rotation=0)\n",
        "plt.tight_layout()\n",
        "plt.show()\n"
      ]
    },
    {
      "cell_type": "markdown",
      "metadata": {
        "id": "QBeKjhiYn50r"
      },
      "source": [
        "Esta representación permite detectar coincidencias relevantes entre outliers multivariables. El análisis muestra que varios registros que presentan valores atípicos en el cargo de regulación también los muestran en desviación total y algunos en la posición final."
      ]
    },
    {
      "cell_type": "code",
      "execution_count": null,
      "metadata": {
        "colab": {
          "background_save": true
        },
        "id": "g7gOfFbU2L-Y"
      },
      "outputs": [],
      "source": [
        "datos_sin_outliers = df_unido[(df_unido[\"cargo de regulación\"] >= limite_inferior) &\n",
        "                               (df_unido[\"cargo de regulación\"] <= limite_superior)]\n",
        "\n",
        "#distribución sin outliers\n",
        "plt.figure(figsize=(10, 4))\n",
        "sns.histplot(datos_sin_outliers[\"cargo de regulación\"], kde=True, bins=50, color=\"skyblue\")\n",
        "plt.title(\"Distribución del cargo de regulación (sin outliers)\")\n",
        "plt.xlabel(\"cargo de regulación\")\n",
        "plt.ylabel(\"Frecuencia\")\n",
        "plt.grid(True)\n",
        "plt.tight_layout()\n",
        "plt.show()\n"
      ]
    },
    {
      "cell_type": "markdown",
      "metadata": {
        "id": "3NpkTcQ2ozJn"
      },
      "source": [
        "Una vez excluidos dichos outliers, con el fin de entender mejor el comportamiento del resto de los datos se vuelve a graficar la distribución. La distribución presenta una clara asimetría positiva (sesgo a la derecha), concentrando la mayor parte de los valores en torno a los 40-60 euros"
      ]
    },
    {
      "cell_type": "markdown",
      "metadata": {
        "id": "thumn57V4BzN"
      },
      "source": [
        "## Identificación de patrones diarios o estacionales"
      ]
    },
    {
      "cell_type": "code",
      "execution_count": null,
      "metadata": {
        "colab": {
          "background_save": true
        },
        "id": "BT-M4DwSqTqj"
      },
      "outputs": [],
      "source": [
        "columnas_excluir = [\"AÑO\", \"MES\", \"Hora\"]\n",
        "df_numerico = df_unido.select_dtypes(include='number').drop(columns=columnas_excluir, errors=\"ignore\")"
      ]
    },
    {
      "cell_type": "code",
      "execution_count": null,
      "metadata": {
        "colab": {
          "background_save": true
        },
        "id": "JVjy4nvNYitI"
      },
      "outputs": [],
      "source": [
        "result = seasonal_decompose(df_numerico[\"cargo de regulación\"], model=\"additive\", period=24)\n",
        "result.plot()\n",
        "plt.show()"
      ]
    },
    {
      "cell_type": "markdown",
      "metadata": {
        "id": "mSl3jjwH4fpb"
      },
      "source": [
        "Dado que al aplicar la descomposición sobre la serie completa no se apreciaban con claridad los ciclos recurrentes, se optó por trabajar con los primeros 200 registros, lo cual permite aislar mejor los patrones de corta duración, como las fluctuaciones diarias."
      ]
    },
    {
      "cell_type": "code",
      "execution_count": null,
      "metadata": {
        "colab": {
          "background_save": true
        },
        "id": "Xi9CQZ3ZpYut"
      },
      "outputs": [],
      "source": [
        "# Se toman los primeros 200 registros\n",
        "df_numerico_subset = df_numerico.iloc[:200].copy()\n",
        "df_numerico_subset[\"cargo de regulación\"] = pd.to_numeric(df_numerico_subset[\"cargo de regulación\"], errors='coerce')\n",
        "\n",
        "# Descomposición estacional\n",
        "result = seasonal_decompose(df_numerico_subset[\"cargo de regulación\"], model=\"additive\", period=24)\n",
        "\n",
        "# Visualizar\n",
        "result.plot()\n",
        "plt.show()"
      ]
    },
    {
      "cell_type": "markdown",
      "metadata": {
        "id": "18geWJvQpYe_"
      },
      "source": [
        "Dado este resultado, se toma la decisión de agrupar la base de datos por hora con el objetivo de estudiar cómo se relacionan entre sí las diferentes variables a lo largo del ciclo diario. Esta agrupación permite observar el comportamiento promedio de cada variable en función de la hora del día, lo cual resulta especialmente relevante en sistemas energéticos donde la demanda y la generación suelen seguir patrones horarios"
      ]
    },
    {
      "cell_type": "markdown",
      "metadata": {
        "id": "3gQ-WTC48e6y"
      },
      "source": [
        "##Agrupación por hora\n",
        "Agrupo por hora pasando de tener miles de datos a únicamente 24 por columna, Calculo la media por hora de todos los datos.\n",
        "\n"
      ]
    },
    {
      "cell_type": "code",
      "execution_count": null,
      "metadata": {
        "colab": {
          "background_save": true
        },
        "id": "vEs4mU1dpg-1"
      },
      "outputs": [],
      "source": [
        "columnas_excluir = [\"AÑO\", \"MES\", \"Hora\"]\n",
        "try:\n",
        "    # Agrupar por hora\n",
        "    suma_por_hora = df_unido.groupby(\"Hora\").mean(numeric_only=True).reset_index()\n",
        "\n",
        "    # Ordenar por hora por si acaso\n",
        "    suma_por_hora = suma_por_hora.sort_values(\"Hora\").reset_index(drop=True)\n",
        "\n",
        "except NameError:\n",
        "    suma_por_hora = pd.DataFrame({\"Error\": [\"df_unido no está definido.\"]})\n",
        "\n",
        "df_numerico_por_hora = suma_por_hora.select_dtypes(include='number').drop(columns=columnas_excluir, errors=\"ignore\")"
      ]
    },
    {
      "cell_type": "code",
      "execution_count": null,
      "metadata": {
        "colab": {
          "background_save": true
        },
        "id": "4VdkUTy3WxE6"
      },
      "outputs": [],
      "source": [
        "suma_por_hora"
      ]
    },
    {
      "cell_type": "markdown",
      "metadata": {
        "id": "P5vDGnf5tUBy"
      },
      "source": [
        "##Matriz de correlación"
      ]
    },
    {
      "cell_type": "code",
      "execution_count": null,
      "metadata": {
        "colab": {
          "background_save": true
        },
        "id": "GvjKdUNfcSOQ"
      },
      "outputs": [],
      "source": [
        "# Calcular la matriz de correlación\n",
        "correlation_matrix = df_numerico_por_hora.corr()\n",
        "\n",
        "# Crear el mapa de calor\n",
        "plt.figure(figsize=(12, 10))\n",
        "sns.heatmap(correlation_matrix, annot=True, cmap='coolwarm', fmt=\".2f\")\n",
        "plt.title(\"Matriz de Correlación\")\n",
        "plt.xticks(rotation=45, ha=\"right\")\n",
        "plt.yticks(rotation=0)\n",
        "plt.tight_layout()\n",
        "plt.show()\n"
      ]
    },
    {
      "cell_type": "code",
      "execution_count": null,
      "metadata": {
        "colab": {
          "background_save": true
        },
        "id": "SS2PDFOudUYd"
      },
      "outputs": [],
      "source": [
        "#Orden de mayor a menor en valor absoluto\n",
        "correlaciones_charges = correlation_matrix['cargo de regulación'].sort_values(key=lambda x: x.abs(), ascending=False)\n",
        "correlaciones_charges"
      ]
    },
    {
      "cell_type": "markdown",
      "metadata": {
        "id": "wxCKsWJMtsyw"
      },
      "source": [
        "Estos resultados son consistentes con las hipótesis iniciales del estudio, que planteaban que tanto el comportamiento del mercado eléctrico (representado por el pool) como la participación de energías renovables tienen una influencia directa en los costes regulatorios. En efecto, tres de las cinco variables más correlacionadas son tecnologías renovables."
      ]
    },
    {
      "cell_type": "markdown",
      "metadata": {
        "id": "yAx48SJUTJbb"
      },
      "source": [
        "##Gráficos para entender posibles relaciones\n"
      ]
    },
    {
      "cell_type": "code",
      "execution_count": null,
      "metadata": {
        "colab": {
          "background_save": true
        },
        "id": "WcRuvtfyWwx1"
      },
      "outputs": [],
      "source": [
        "# Gráfico 1: Pool y Cargo de Regulación\n",
        "plt.figure(figsize=(10, 5))\n",
        "plt.plot(suma_por_hora.index, suma_por_hora[\"pool\"], label=\"Pool\", marker='o')\n",
        "plt.plot(suma_por_hora.index, suma_por_hora[\"cargo de regulación\"], label=\"cargo de Regulación\", marker='s')\n",
        "plt.xlabel(\"Hora\")\n",
        "plt.ylabel(\"Valor\")\n",
        "plt.title(\"Pool y Cargo de Regulación por Hora\")\n",
        "plt.legend()\n",
        "plt.grid(True)\n",
        "plt.show()\n"
      ]
    },
    {
      "cell_type": "markdown",
      "metadata": {
        "id": "rcecuG_muaat"
      },
      "source": [
        "El precio del pool tiende a ser más bajo durante las horas centrales del día (aproximadamente entre las 11:00 y las 17:00), coincidiendo con una mayor penetración de energía solar, mientras que alcanza sus máximos en las horas nocturnas (alrededor de las 21:00). Por el contrario, el cargo de regulación muestra un patrón opuesto, con valores más altos en las horas diurnas y una caída pronunciada al anochecer. Este comportamiento refuerza la correlación negativa detectada entre ambas variables y sugiere que cuando el precio del mercado es bajo, posiblemente debido a una alta generación renovable, se incrementan los desvíos o la necesidad de ajustes, lo que da lugar a mayores costes regulatorios."
      ]
    },
    {
      "cell_type": "code",
      "execution_count": null,
      "metadata": {
        "colab": {
          "background_save": true
        },
        "id": "LejNRz9d6alX"
      },
      "outputs": [],
      "source": [
        "#PORCENTAJES TOTALES POR GENERADORA\n",
        "\n",
        "excluir = [\n",
        "    \"pool\", \"desviacion por exceso\", \"desviacion por defecto\",\n",
        "    \"posicion final\", \"conteo\", \"cargo de regulación\", \"AÑO\", \"MES\",\n",
        "    \"Hora\", \"Consumption\", \"desviacion total\"\n",
        "]\n",
        "\n",
        "columnas_tecnologias = [\n",
        "    col for col in df_unido.select_dtypes(include='number').columns if col not in excluir\n",
        "]\n",
        "# Si el dato está cada 15 minutos (0.25h), convierte MW a MWh\n",
        "factor_tiempo = 1  # Está ya agrupados por hora, entonces dejamos el 1\n",
        "energia_por_tecnologia = (df_unido[columnas_tecnologias].astype(float) * factor_tiempo).sum()\n",
        "\n",
        "# Total general\n",
        "total_general = energia_por_tecnologia.sum()\n",
        "\n",
        "#porcentajes reales de generación\n",
        "porcentajes = (energia_por_tecnologia / total_general) * 100\n",
        "\n",
        "df_porcentajes = porcentajes.reset_index()\n",
        "df_porcentajes.columns = ['Tecnología', 'Porcentaje (%)']\n",
        "df_porcentajes = df_porcentajes.sort_values(by='Porcentaje (%)', ascending=False)\n",
        "\n",
        "print(df_porcentajes)\n",
        "print(f\"Suma total: {df_porcentajes['Porcentaje (%)'].sum():.5f}%\")"
      ]
    },
    {
      "cell_type": "markdown",
      "metadata": {
        "id": "IOt44ZuN7eo1"
      },
      "source": [
        "Aunque el porcentaje total por tecnología generadora permite tener una visión general de la composición del mix energético gestionado por REN, este enfoque resulta limitado para extraer conclusiones precisas. Para comprender realmente la dinámica del sistema y su impacto en variables como el cargo de regulación, es más útil analizar la distribución porcentual por generadora a lo largo del día, ya que permite identificar patrones horarios y posibles correlaciones con eventos específicos del mercado eléctrico.\n",
        "\n"
      ]
    },
    {
      "cell_type": "code",
      "execution_count": null,
      "metadata": {
        "colab": {
          "background_save": true
        },
        "id": "Er1feGCgk4Rj"
      },
      "outputs": [],
      "source": [
        "#Gráfico 2: Distribución porcentual por tecnología\n",
        "\n",
        "excluir = [\n",
        "    \"pool\", \"desviacion por exceso\", \"desviacion por defecto\",\n",
        "    \"posicion final\", \"conteo\", \"cargo de regulación\", \"AÑO\", \"MES\",\n",
        "    \"Hora\", \"Consumption\", \"desviacion total\"\n",
        "] #DatosBRP\n",
        "\n",
        "columnas_tecnologias = [col for col in suma_por_hora.columns if col not in excluir]\n",
        "df_tecnologias = suma_por_hora[columnas_tecnologias].copy()\n",
        "\n",
        "totales = df_tecnologias.sum()\n",
        "umbral = 0.04 * totales.sum() #Se van a agrupar las teconologías por porcentajes menores a 4%\n",
        "tecnologias_principales = totales[totales >= umbral].index.tolist()\n",
        "tecnologias_otros = [col for col in df_tecnologias.columns if col not in tecnologias_principales]\n",
        "\n",
        "df_apilado = df_tecnologias.copy()\n",
        "df_apilado[\"Otros\"] = df_apilado[tecnologias_otros].sum(axis=1)\n",
        "df_apilado = df_apilado[tecnologias_principales + [\"Otros\"]]\n",
        "\n",
        "df_porcentual = df_apilado.div(df_apilado.sum(axis=1), axis=0) * 100\n",
        "\n",
        "\n",
        "fig, ax = plt.subplots(figsize=(14, 6))\n",
        "bars = df_porcentual.plot(kind='bar', stacked=True, cmap='tab20', ax=ax)\n",
        "\n",
        "# Etiquetas personalizadas del eje X\n",
        "#Horas de la 1 a la 24\n",
        "ax.set_xticks(range(24))\n",
        "ax.set_xticklabels([f'{h+1}h' for h in range(24)], rotation=0)\n",
        "\n",
        "# Títulos y etiquetas\n",
        "ax.set_title('Distribución porcentual por tecnología por hora')\n",
        "ax.set_xlabel('Hora del día')\n",
        "ax.set_ylabel('Porcentaje (%)')\n",
        "\n",
        "# Leyenda con explicación de \"Otros\"\n",
        "handles, labels = ax.get_legend_handles_labels()\n",
        "otros_texto = \", \\n\".join(tecnologias_otros)\n",
        "labels = [\n",
        "    f\"{l} (Incluye:\\n {otros_texto})\" if l == \"Otros\" else l\n",
        "    for l in labels\n",
        "]\n",
        "ax.legend(handles, labels, title='Tecnología', bbox_to_anchor=(1.05, 1), loc='upper left')\n",
        "\n",
        "# Añadir porcentajes encima de cada segmento\n",
        "for idx, row in df_porcentual.iterrows():\n",
        "    y_offset = 0\n",
        "    for col in df_porcentual.columns:\n",
        "        height = row[col]\n",
        "        if height > 3:  # solo mostrar etiquetas >3% para no saturar\n",
        "            ax.text(idx, y_offset + height / 2, f'{height:.0f}%', ha='center', va='center', fontsize=8)\n",
        "        y_offset += height\n",
        "\n",
        "plt.tight_layout()\n",
        "plt.show()\n"
      ]
    },
    {
      "cell_type": "markdown",
      "metadata": {
        "id": "jEqfwPg9vcO5"
      },
      "source": [
        "Aunque la biomasa muestra alta correlación con el cargo de regulación, su baja y constante participación la hace poco representativa.\n",
        "\n",
        "Destaca la fuerte dependencia de Portugal de la electricidad importada desde España durante las horas solares.\n",
        "\n",
        "La energía solar, al tener prioridad en el mercado, desplaza a otras tecnologías como la eólica e hidráulica, siendo esta última utilizada como respaldo en momentos de baja producción renovable."
      ]
    },
    {
      "cell_type": "code",
      "execution_count": null,
      "metadata": {
        "colab": {
          "background_save": true
        },
        "id": "AGD2HHG_anI2"
      },
      "outputs": [],
      "source": [
        "#Gráfico 4: Representación de todas las energías acumuladas, acomodadas de menor a mayor variabilidad\n",
        "\n",
        "# Seleccionamos columnas numéricas, excluyendo las variables no deseadas\n",
        "excluir = [\"pool\", \"desviacion por exceso\", \"desviacion por defecto\",\n",
        "               \"posicion final\", \"conteo\", \"cargo de regulación\", \"AÑO\", \"MES\", \"Hora\", \"Consumption\", \"desviacion total\"]\n",
        "columnas_usar = [col for col in suma_por_hora.select_dtypes(include='number').columns if col not in excluir]\n",
        "\n",
        "    # Subconjunto del DataFrame con solo esas columnas\n",
        "datos_filtrados = suma_por_hora[columnas_usar]\n",
        "\n",
        "    # Calcular variabilidad por columna (desviación estándar)\n",
        "variabilidad = datos_filtrados.std().sort_values()\n",
        "columnas_ordenadas = variabilidad.index.tolist()\n",
        "datos_ordenados = datos_filtrados[columnas_ordenadas]\n",
        "\n",
        "    # Crear gráfico de área apilada\n",
        "fig = go.Figure()\n",
        "\n",
        "for col in columnas_ordenadas:\n",
        "    fig.add_trace(go.Scatter(\n",
        "        x=suma_por_hora.index,\n",
        "        y=datos_ordenados[col],\n",
        "        mode='lines',\n",
        "        stackgroup='one',\n",
        "        name=col\n",
        "    ))\n",
        "\n",
        "    # Línea negra: total por fila\n",
        "fig.add_trace(go.Scatter(\n",
        "    x=suma_por_hora.index,\n",
        "    y=datos_ordenados.sum(axis=1),\n",
        "    mode='lines',\n",
        "    name='Total Generación',\n",
        "    line=dict(color='black', width=2)\n",
        "))\n",
        "\n",
        "fig.update_layout(\n",
        "    title=\"Generación Horaria (ordenado por variabilidad)\",\n",
        "    xaxis_title=\"Índice (Hora)\",\n",
        "    yaxis_title=\"MW\",\n",
        "    template=\"plotly_white\",\n",
        "    legend_title=\"Variable\"\n",
        "    )\n",
        "\n",
        "fig.show()\n"
      ]
    },
    {
      "cell_type": "markdown",
      "metadata": {
        "id": "vQrDFhD24Im5"
      },
      "source": [
        "Este gráfico apilado muestra la generación horaria de electricidad desglosada por tipo de tecnología, ordenada por su variabilidad a lo largo del día.\n",
        "\n",
        "El gráfico refleja un uso intensivo de energía solar e importaciones durante el día, mientras que la hidráulica y otras tecnologías compensan la generación en horas sin sol. Este comportamiento es coherente con un sistema energético que prioriza renovables, pero que aún depende de intercambios internacionales y fuentes de respaldo regulables."
      ]
    },
    {
      "cell_type": "code",
      "execution_count": null,
      "metadata": {
        "colab": {
          "background_save": true
        },
        "id": "NJHKO3TbyNL4"
      },
      "outputs": [],
      "source": [
        "#Gráfico 5: Comparativa entre generación por tecnología y cargo de regulación.\n",
        "\n",
        "variables_apiladas = [\"Biomass\", \"Hydro\",\"Wind\", \"Solar\", \"Imports\"]\n",
        "\n",
        "# Columnas numéricas para total generación (excluye no generadoras)\n",
        "excluir = [\"pool\", \"desviacion por exceso\", \"desviacion por defecto\",\n",
        "           \"posicion final\", \"conteo\", \"cargo de regulación\", \"AÑO\", \"MES\",\n",
        "           \"Hora\", \"Consumption\", \"desviacion total\"]\n",
        "columnas_generadoras = [col for col in suma_por_hora.select_dtypes(include='number').columns if col not in excluir]\n",
        "\n",
        "# Datos de generación y precios\n",
        "datos_apilados = suma_por_hora[variables_apiladas]\n",
        "total_generacion = suma_por_hora[columnas_generadoras].sum(axis=1)\n",
        "precio_regulacion = suma_por_hora[\"cargo de regulación\"]\n",
        "\n",
        "fig = go.Figure()\n",
        "\n",
        "# Área apilada (ordenada)\n",
        "for col in variables_apiladas:\n",
        "    fig.add_trace(go.Scatter(\n",
        "        x=suma_por_hora.index,\n",
        "        y=datos_apilados[col],\n",
        "        mode='lines',\n",
        "        stackgroup='one',\n",
        "        name=col\n",
        "    ))\n",
        "\n",
        "# Línea de total de generación\n",
        "fig.add_trace(go.Scatter(\n",
        "    x=suma_por_hora.index,\n",
        "    y=total_generacion,#PROBAR CON CONSUMPTION\n",
        "    #y=total_generacion,\n",
        "    mode='lines',\n",
        "    name='Total Generación',\n",
        "    line=dict(color='black', width=2, dash='solid')\n",
        "))\n",
        "\n",
        "# Línea de cargo de regulación\n",
        "fig.add_trace(go.Scatter(\n",
        "    x=suma_por_hora.index,\n",
        "    y=precio_regulacion,\n",
        "    mode='lines',\n",
        "    name='Cargo de Regulación',\n",
        "    line=dict(color='red', width=2.5),\n",
        "    yaxis=\"y2\"\n",
        "))\n",
        "\n",
        "# Ejes y layout ajustados para evitar solapamiento\n",
        "fig.update_layout(\n",
        "    title=\"Generación Horaria (Biomasa, Eólica, Solar, Hidraulica, Importaciones) y Precio de Cargo de Regulación\",\n",
        "    xaxis_title=\"Hora\",\n",
        "    yaxis=dict(\n",
        "        title=\"MW\",\n",
        "        side=\"left\"\n",
        "    ),\n",
        "    yaxis2=dict(\n",
        "        title=\"Precio Cargo de Regulación\",\n",
        "        overlaying=\"y\",\n",
        "        side=\"right\",\n",
        "        showgrid=False\n",
        "    ),\n",
        "    template=\"plotly_white\",\n",
        "    legend=dict(\n",
        "        x=1.05,\n",
        "        y=1,\n",
        "        traceorder='normal',\n",
        "        bgcolor='rgba(255,255,255,0)',\n",
        "        bordercolor='rgba(0,0,0,0)'\n",
        "    ),\n",
        "    margin=dict(r=160, t=80),\n",
        "    legend_title=\"Variable\"\n",
        ")\n"
      ]
    },
    {
      "cell_type": "markdown",
      "metadata": {
        "id": "fv2OQ3EK4p7n"
      },
      "source": [
        "Se elaboró una visualización que muestra la generación horaria por tecnología junto al cargo de regulación. La curva del cargo (en rojo) alcanza su máximo durante las horas solares (12:00–15:00), lo que sugiere que la intermitencia de la energía fotovoltaica incrementa la necesidad de ajustes. En cambio, durante la noche, con fuentes más estables como hidráulica e importaciones, el cargo disminuye notablemente. Esto indica que un mix energético con alta presencia de renovables no gestionables puede elevar los costes regulatorios si no se acompaña de tecnologías de respaldo, como hemos visto continuamente."
      ]
    },
    {
      "cell_type": "code",
      "execution_count": null,
      "metadata": {
        "colab": {
          "background_save": true
        },
        "id": "ykKTJdnfwby8"
      },
      "outputs": [],
      "source": [
        "# Normalización de todas las columnas menos \"Hora\"\n",
        "cols_to_normalize = [\"Solar\", \"Wind\", \"Hydro\", \"Imports\", \"Natural Gas - Combined Cycle\",\"cargo de regulación\"]\n",
        "scaler = MinMaxScaler()\n",
        "suma_por_hora[cols_to_normalize] = scaler.fit_transform(suma_por_hora[cols_to_normalize])\n",
        "\n",
        "# Graficar comparaciones\n",
        "fig, axs = plt.subplots(3, 2, figsize=(14, 10))\n",
        "tecnologias = [\"Solar\", \"Wind\", \"Hydro\", \"Imports\", \"Natural Gas - Combined Cycle\"]\n",
        "for i, tech in enumerate(tecnologias):\n",
        "    ax = axs[i//2, i%2]\n",
        "    ax.plot(suma_por_hora[\"Hora\"], suma_por_hora[\"cargo de regulación\"], color='red', label=\"Cargo de Regulación\")\n",
        "    ax.plot(suma_por_hora[\"Hora\"], suma_por_hora[tech], label=tech)\n",
        "    ax.set_title(f\"{tech} vs Cargo de Regulación (Normalizado)\")\n",
        "    ax.legend()\n",
        "    ax.set_xlabel(\"Hora\")\n",
        "    ax.set_ylabel(\"Valor Normalizado\")\n",
        "\n",
        "plt.tight_layout()\n",
        "plt.show()"
      ]
    },
    {
      "cell_type": "markdown",
      "metadata": {
        "id": "gcM0plN453BG"
      },
      "source": [
        " La energía solar se incrementa desde las 08:00 hasta las 18:00 y su comportamiento coincide con el aumento del cargo, lo que sugiere que su variabilidad contribuye a la inestabilidad del sistema, posiblemente por errores de previsión. La generación eólica presenta un patrón opuesto al del cargo, con valores más altos cuando este es bajo, lo que indica un posible efecto estabilizador. La hidráulica no presenta una relación clara, pero su disminución en horas de la tarde podría estar relacionada con la persistencia de valores altos del cargo. Las importaciones coinciden temporalmente con los picos del cargo de regulación, lo que indica que pueden ser una respuesta a desajustes en el sistema. El ciclo combinado de gas natural tiene una evolución similar pero más atenuada, lo que sugiere un papel de respaldo programado sin impacto directo en los picos del cargo."
      ]
    },
    {
      "cell_type": "code",
      "execution_count": null,
      "metadata": {
        "colab": {
          "background_save": true
        },
        "id": "2zdwlFKm01HJ"
      },
      "outputs": [],
      "source": [
        "#Qué tan altas están las energías cuando el cargo está alto\n",
        "\n",
        "def comparar_precio_fuente_adaptado(df, fuente):\n",
        "    if (df[fuente] == 0).sum() > 0:\n",
        "        # Si hay ceros, comparar con y sin energía\n",
        "        con = df[df[fuente] > 0]\n",
        "        sin = df[df[fuente] == 0]\n",
        "        label_con = \"con energía > 0\"\n",
        "        label_sin = \"sin energía\"\n",
        "    else:\n",
        "        # Si siempre hay energía, usar mediana como umbral\n",
        "        umbral = df[fuente].median()\n",
        "        con = df[df[fuente] > umbral]\n",
        "        sin = df[df[fuente] <= umbral]\n",
        "        label_con = \"alta generación\"\n",
        "        label_sin = \"baja generación\"\n",
        "\n",
        "    precio_con = con[\"cargo de regulación\"].mean()\n",
        "    precio_sin = sin[\"cargo de regulación\"].mean()\n",
        "    diferencia_abs = precio_con - precio_sin\n",
        "    diferencia_pct = (diferencia_abs / precio_sin) * 100 if precio_sin != 0 else None\n",
        "\n",
        "    return {\n",
        "        \"Tecnología\": fuente,\n",
        "        \"Precio (con)\": round(precio_con, 2),\n",
        "        \"Precio (sin/baja)\": round(precio_sin, 2),\n",
        "        \"Diferencia (€)\": round(diferencia_abs, 2),\n",
        "        \"Diferencia (%)\": round(diferencia_pct, 2) if diferencia_pct is not None else \"N/A\",\n",
        "        \"Criterio\": f\"{label_con} vs {label_sin}\"\n",
        "    }\n",
        "\n",
        "# Tecnologías de interés\n",
        "tecnologias = [\"Solar\", \"Wind\", \"Imports\"]\n",
        "\n",
        "resultados_adaptados = [comparar_precio_fuente_adaptado(df_unido, tech) for tech in tecnologias]\n",
        "tabla_resultados = pd.DataFrame(resultados_adaptados)\n",
        "\n",
        "\n",
        "tabla_resultados"
      ]
    },
    {
      "cell_type": "markdown",
      "metadata": {
        "id": "8dnAX4ifKG7U"
      },
      "source": [
        "Solar: cuando hay producción solar, el cargo de regulación es un 153.87 % más alto. Esto refuerza la idea de que, aunque la energía solar es abundante en ciertas horas, su variabilidad genera más ajustes en el sistema, elevando los costes.\n",
        "\n",
        "Wind (eólica): el efecto es moderado. Cuando hay más generación eólica, el cargo sube solo un 5.97 %, lo que indica que es una fuente más estable y con menor impacto en la necesidad de ajustes.\n",
        "\n",
        "Imports: la presencia de importaciones también aumenta el cargo un 16.45 %, lo que sugiere que se usan como medida reactiva cuando hay desbalances, más que como causa directa."
      ]
    },
    {
      "cell_type": "markdown",
      "metadata": {
        "id": "IzD_Q2DI9RUF"
      },
      "source": [
        "##Agrupación por mes del cargo y pool"
      ]
    },
    {
      "cell_type": "markdown",
      "metadata": {
        "id": "L2VSfgKJJRUh"
      },
      "source": [
        "Por último se quiere estudiar como es la variabilidad del cargo de regulación y del precio del mercado mayorista a lo largo del año."
      ]
    },
    {
      "cell_type": "code",
      "execution_count": null,
      "metadata": {
        "colab": {
          "background_save": true
        },
        "id": "Sq6K37i87O5H"
      },
      "outputs": [],
      "source": [
        "try:\n",
        "    # Agrupar por hora y sumar todas las variables numéricas\n",
        "    suma_por_mes = df_unido.groupby(\"MES\").mean(numeric_only=True).reset_index()\n",
        "\n",
        "    # Ordenar por hora por si acaso\n",
        "    suma_por_mes = suma_por_mes.sort_values(\"MES\").reset_index(drop=True)\n",
        "\n",
        "except NameError:\n",
        "    suma_por_mes = pd.DataFrame({\"Error\": [\"df_unido no está definido.\"]})"
      ]
    },
    {
      "cell_type": "code",
      "execution_count": null,
      "metadata": {
        "colab": {
          "background_save": true
        },
        "id": "BK6vtFjk7vmS"
      },
      "outputs": [],
      "source": [
        "# Datos para el gráfico\n",
        "meses = suma_por_mes.index\n",
        "pool = suma_por_mes[\"pool\"]\n",
        "cargo = suma_por_mes[\"cargo de regulación\"]\n",
        "\n",
        "# Posiciones para las barras\n",
        "x = np.arange(len(meses))\n",
        "width = 0.35\n",
        "\n",
        "plt.figure(figsize=(12, 6))\n",
        "bars1 = plt.bar(x - width/2, pool, width, label='Pool', color='steelblue')\n",
        "bars2 = plt.bar(x + width/2, cargo, width, label='Cargo de Regulación', color='orange')\n",
        "\n",
        "# Etiquetas numéricas en las barras\n",
        "for bar in bars1:\n",
        "    yval = bar.get_height()\n",
        "    plt.text(bar.get_x() + bar.get_width()/2, yval + 0.5, f'{yval:.1f}', ha='center', va='bottom', fontsize=8)\n",
        "\n",
        "for bar in bars2:\n",
        "    yval = bar.get_height()\n",
        "    plt.text(bar.get_x() + bar.get_width()/2, yval + 0.5, f'{yval:.1f}', ha='center', va='bottom', fontsize=8)\n",
        "\n",
        "mes_labels = ['Ene', 'Feb', 'Mar', 'Abr', 'May', 'Jun', 'Jul', 'Ago', 'Sep', 'Oct', 'Nov', 'Dic']\n",
        "plt.xticks(x, mes_labels)\n",
        "plt.xlabel(\"Mes\")\n",
        "plt.ylabel(\"Valor (€)\")\n",
        "plt.title(\"Comparación entre Pool y Cargo de Regulación por Mes\")\n",
        "plt.legend()\n",
        "plt.grid(True, axis='y', linestyle='--', alpha=0.5)\n",
        "plt.tight_layout()\n",
        "plt.show()"
      ]
    },
    {
      "cell_type": "markdown",
      "metadata": {
        "id": "U41w-x8qJbCl"
      },
      "source": [
        "En el gráfico se observa que el cargo de regulación (barras amarillas) presenta valores notablemente más bajos entre los meses de marzo y julio. Por que durante estos meses, la generación solar es más estable gracias a la mayor duración del día y a condiciones meteorológicas más previsibles, con menor presencia de nubes y lluvias.\n",
        "\n",
        "Respecto al precio del pool (barras azules), se aprecian los valores más bajos durante la primavera (abril y mayo), coincidiendo con una mayor penetración de renovables y una demanda relativamente moderada.\n",
        "\n",
        " Esto sugiere que el comportamiento del pool responde principalmente al equilibrio entre oferta y demanda, mientras que el cargo de regulación refleja más la estabilidad y previsibilidad de esa oferta."
      ]
    },
    {
      "cell_type": "markdown",
      "metadata": {
        "id": "c2vxpSqwSpOA"
      },
      "source": [
        "#XGBoost"
      ]
    },
    {
      "cell_type": "markdown",
      "metadata": {
        "id": "7on9wzYgQcE6"
      },
      "source": [
        "###Df REal"
      ]
    },
    {
      "cell_type": "code",
      "execution_count": null,
      "metadata": {
        "colab": {
          "background_save": true
        },
        "id": "vr7Zf9KwL-ph"
      },
      "outputs": [],
      "source": [
        "columnas_excluir = [\"AÑO\", \"MES\", \"Hora\"]\n",
        "try:\n",
        "    # Agrupar por hora\n",
        "    suma_por_hora = df_unido.groupby(\"Hora\").mean(numeric_only=True).reset_index()\n",
        "\n",
        "    # Ordenar por hora por si acaso\n",
        "    suma_por_hora = suma_por_hora.sort_values(\"Hora\").reset_index(drop=True)\n",
        "\n",
        "except NameError:\n",
        "    suma_por_hora = pd.DataFrame({\"Error\": [\"df_unido no está definido.\"]})\n",
        "suma_por_hora"
      ]
    },
    {
      "cell_type": "code",
      "execution_count": null,
      "metadata": {
        "colab": {
          "background_save": true
        },
        "id": "JZC-LawOlcrt"
      },
      "outputs": [],
      "source": [
        "# 1. Cargar y procesar datos de producción\n",
        "df_prod = pd.read_csv(\"Breakdown of Production_20250315_20250321.csv\", sep=\";\", skiprows=2)\n",
        "df_prod.rename(columns={df_prod.columns[0]: \"datetime\"}, inplace=True)\n",
        "df_prod[\"datetime\"] = pd.to_datetime(df_prod[\"datetime\"])\n",
        "df_prod = df_prod[(df_prod[\"datetime\"] >= \"2025-03-15\") & (df_prod[\"datetime\"] <= \"2025-03-21 23:59:00\")]\n",
        "df_prod[\"Fecha_Prev\"] = df_prod[\"datetime\"].dt.strftime(\"%d/%m/%Y\")\n",
        "df_prod[\"Hora\"] = df_prod[\"datetime\"].dt.hour + 1\n",
        "df_hourly = df_prod.groupby([\"Fecha_Prev\", \"Hora\"], as_index=False).mean(numeric_only=True)\n",
        "\n",
        "\n",
        "# 2. Cargar y preparar datos BRP\n",
        "df_brp = pd.read_csv(\"datosBRPfinal.csv\", sep=\";\", decimal=\",\", encoding=\"utf-8\")\n",
        "df_brp.rename(columns=lambda c: c.replace(\"¢\", \"ó\"), inplace=True)\n",
        "df_brp[\"cargo de regulación\"] = pd.to_numeric(df_brp[\"cargo de regulación\"], errors=\"coerce\")\n",
        "df_brp[\"desviacion por defecto\"] = pd.to_numeric(df_brp[\"desviacion por defecto\"], errors=\"coerce\")\n",
        "df_brp[\"desviacion por exceso\"] = pd.to_numeric(df_brp[\"desviacion por exceso\"], errors=\"coerce\")\n",
        "df_brp[\"desviacion total\"] = df_brp[\"desviacion por defecto\"] + df_brp[\"desviacion por exceso\"]\n",
        "\n",
        "# Convertir Fecha_Prev en df_hourly al formato datetime (si no lo has hecho)\n",
        "df_hourly[\"Fecha_Prev\"] = pd.to_datetime(df_hourly[\"Fecha_Prev\"], dayfirst=True)\n",
        "\n",
        "# Convertir Fecha_Prev en df_brp al formato datetime también\n",
        "df_brp[\"Fecha_Prev\"] = pd.to_datetime(df_brp[\"Fecha_Prev\"], dayfirst=True)\n",
        "\n",
        "# Volver a pasarlo a string en formato dd/mm/yyyy en ambos DataFrames\n",
        "df_hourly[\"Fecha_Prev\"] = df_hourly[\"Fecha_Prev\"].dt.strftime(\"%d/%m/%Y\")\n",
        "df_brp[\"Fecha_Prev\"] = df_brp[\"Fecha_Prev\"].dt.strftime(\"%d/%m/%Y\")\n",
        "\n",
        "\n",
        "\n",
        "# 3. Unir datasets\n",
        "#df_brp_vars = df_brp[[\"Fecha_Prev\", \"Hora\", \"pool\", \"cargo de regulación\", \"desviacion total\", \"conteo\", \"desviacion por exceso\", \"MES\", \"desviacion por defecto\", \"posicion final\", \"AÑO\"]]\n",
        "df_real = pd.merge(df_brp, df_hourly, on=[\"Fecha_Prev\", \"Hora\"], how=\"inner\")\n",
        "df_real[\"Hora\"] = df_real[\"Hora\"].astype(int)\n",
        "\n",
        "# Si es un DataFrame, primero convierte a Serie con el índice = Hora\n",
        "media_por_hora = suma_por_hora[\"cargo de regulación\"]  # esto debe tener índice 0–23\n",
        "\n",
        "# Aplicar a df_real según la columna Hora\n",
        "df_real[\"media_cargo_por_hora\"] = df_real[\"Hora\"].map(lambda h: media_por_hora.get(h - 1))\n",
        "\n",
        "\n",
        "df_real = df_real.drop(columns=[\"Wave\", \"Coal\"])\n",
        "\n",
        "df_real.head()\n",
        "\n",
        "df_real"
      ]
    },
    {
      "cell_type": "markdown",
      "metadata": {
        "id": "kc4F078_VEOv"
      },
      "source": [
        "###MODELO1"
      ]
    },
    {
      "cell_type": "code",
      "execution_count": null,
      "metadata": {
        "colab": {
          "background_save": true
        },
        "id": "SvZ5u_0oek84"
      },
      "outputs": [],
      "source": [
        "# Convertir Fecha_Prev a datetime (¡IMPORTANTE usar dayfirst=True!)\n",
        "df_unido[\"Fecha_Prev\"] = pd.to_datetime(df_unido[\"Fecha_Prev\"], dayfirst=True)\n",
        "\n",
        "# Ordenar por Fecha_Prev y luego por Hora (para mantener orden horario dentro del día)\n",
        "df_unido = df_unido.sort_values(by=[\"Fecha_Prev\", \"Hora\"]).reset_index(drop=True)\n"
      ]
    },
    {
      "cell_type": "code",
      "execution_count": null,
      "metadata": {
        "colab": {
          "background_save": true
        },
        "id": "pN6OHqYgS6bV"
      },
      "outputs": [],
      "source": [
        "# 1. Usar df_unido limpio\n",
        "df = df_unido.copy().dropna()\n",
        "df[\"Fecha_Prev\"] = pd.to_datetime(df[\"Fecha_Prev\"], dayfirst=True)\n",
        "df[\"fecha_hora\"] = df[\"Fecha_Prev\"] + pd.to_timedelta(df[\"Hora\"], unit=\"h\")\n",
        "\n",
        "# 3. Ordenar por fecha_hora (crucial)\n",
        "df = df.sort_values(\"fecha_hora\").reset_index(drop=True)\n",
        "\n",
        "# 4. Definir X e y\n",
        "X = df.drop(columns=[\"cargo de regulación\", \"Fecha_Prev\", \"fecha_hora\"])\n",
        "y = df[\"cargo de regulación\"]\n",
        "\n",
        "# 5. División temporal (80/20)\n",
        "split_index = int(len(df) * 0.8)\n",
        "X_train, X_test = X.iloc[:split_index], X.iloc[split_index:]\n",
        "y_train, y_test = y.iloc[:split_index], y.iloc[split_index:]\n",
        "fechas_test = df[\"fecha_hora\"].iloc[split_index:]\n",
        "\n",
        "\n",
        "# 4. Entrenar y predecir\n",
        "modelo_xgb = XGBRegressor(n_estimators=100, learning_rate=0.05, max_depth=8, random_state=42)\n",
        "modelo_xgb.fit(X_train, y_train)\n",
        "y_pred = modelo_xgb.predict(X_test)\n",
        "\n",
        "# 5. Crear series alineadas\n",
        "y_test = pd.Series(y_test.values, index=fechas_test)\n",
        "y_pred = pd.Series(y_pred, index=fechas_test)"
      ]
    },
    {
      "cell_type": "code",
      "execution_count": null,
      "metadata": {
        "colab": {
          "background_save": true
        },
        "id": "Lcb0ewVQkwQD"
      },
      "outputs": [],
      "source": [
        "# Definir el grid de hiperparámetros a probar\n",
        "param_grid = {\n",
        "    'n_estimators': [100, 150, 200],\n",
        "    'learning_rate': [0.05, 0.1, 0.2],\n",
        "    'max_depth': [4, 6, 8]\n",
        "}\n",
        "\n",
        "# Crear el modelo base\n",
        "xgb_model = XGBRegressor(random_state=42)\n",
        "\n",
        "# Configurar la búsqueda\n",
        "grid_search_xgb = GridSearchCV(\n",
        "    estimator=xgb_model,\n",
        "    param_grid=param_grid,\n",
        "    scoring='neg_mean_absolute_error',  # o 'neg_root_mean_squared_error'\n",
        "    cv=3,\n",
        "    verbose=1,\n",
        "    n_jobs=-1\n",
        ")\n",
        "\n",
        "# Entrenar con los datos de entrenamiento\n",
        "#grid_search_xgb.fit(X_train, y_train)\n",
        "\n",
        "# Resultados\n",
        "#print(\"Mejores parámetros encontrados:\", grid_search_xgb.best_params_)\n"
      ]
    },
    {
      "cell_type": "code",
      "execution_count": null,
      "metadata": {
        "colab": {
          "background_save": true
        },
        "id": "jMGdHi_iwmrf"
      },
      "outputs": [],
      "source": [
        "df_unido"
      ]
    },
    {
      "cell_type": "code",
      "execution_count": null,
      "metadata": {
        "colab": {
          "background_save": true
        },
        "id": "NIkK3If0TPSi"
      },
      "outputs": [],
      "source": [
        "mae1 = mean_absolute_error(y_test, y_pred)\n",
        "rmse1 = np.sqrt(mean_squared_error(y_test, y_pred))\n",
        "mae = mean_squared_error(y_test, y_pred)\n",
        "\n",
        "print(f\"MAE: {mae1:.2f} €\")\n",
        "print(f\"RMSE: {rmse1:.2f} €\")\n",
        "print(f\"MSE: {mae:.2f} €\")"
      ]
    },
    {
      "cell_type": "code",
      "execution_count": null,
      "metadata": {
        "colab": {
          "background_save": true
        },
        "id": "aKZNtGzyTRSE"
      },
      "outputs": [],
      "source": [
        "\n",
        "plt.figure(figsize=(14, 5))\n",
        "plt.plot(y_test.index, y_test, label=\"Observado\", alpha=0.7)\n",
        "plt.plot(y_pred.index, y_pred, label=\"Predicción XGBoost\", color=\"orange\", alpha=0.7)\n",
        "\n",
        "\n",
        "plt.title(\"Predicción del Cargo de Regulación con XGBoost\")\n",
        "plt.xlabel(\"Fecha y hora\")\n",
        "plt.ylabel(\"€\")\n",
        "plt.legend()\n",
        "plt.tight_layout()\n",
        "plt.grid()\n",
        "plt.show()"
      ]
    },
    {
      "cell_type": "code",
      "execution_count": null,
      "metadata": {
        "colab": {
          "background_save": true
        },
        "id": "9r-8xD9j8nAy"
      },
      "outputs": [],
      "source": [
        "importances = modelo_xgb.feature_importances_\n",
        "features = X.columns\n",
        "\n",
        "# Ordenar importancias\n",
        "sorted_idx = np.argsort(importances)[::-1]\n",
        "sorted_features = features[sorted_idx]\n",
        "sorted_importances = importances[sorted_idx]\n",
        "\n",
        "# Gráfico\n",
        "plt.figure(figsize=(10, 6))\n",
        "plt.barh(sorted_features, sorted_importances, color=\"steelblue\")\n",
        "plt.xlabel(\"Importancia\")\n",
        "plt.title(\"Importancia de Variables en XGBoost\")\n",
        "plt.gca().invert_yaxis()  # La más importante arriba\n",
        "plt.tight_layout()\n",
        "plt.show()"
      ]
    },
    {
      "cell_type": "code",
      "execution_count": null,
      "metadata": {
        "colab": {
          "background_save": true
        },
        "id": "raOd5qAd-Ckd"
      },
      "outputs": [],
      "source": [
        "# Crear una figura combinada con test histórico + semana futura\n",
        "fig, ax = plt.subplots(figsize=(16, 6))\n",
        "\n",
        "# 1. Parte histórica: y_test vs predicción\n",
        "ax.plot(y_test.index, y_test, label=\"Observado\", alpha=0.7)\n",
        "ax.plot(y_test.index, y_pred, label=\"Predicción XGBoost\", color=\"orange\", alpha=0.7)\n",
        "\n",
        "# 2. Parte futura: predicción con intervalo\n",
        "residuos = y_test - y_pred\n",
        "std_error = residuos.std()\n",
        "\n",
        "X_future = X_test.tail(168).copy()\n",
        "y_future_pred = modelo_xgb.predict(X_future)\n",
        "last_index = y_test.index[-1]\n",
        "\n",
        "# Crear índice extendido para la semana futura\n",
        "future_index = pd.date_range(start=last_index + pd.Timedelta(hours=1), periods=168, freq='H')\n",
        "\n",
        "# Agregar al gráfico\n",
        "ax.plot(future_index, y_future_pred, label=\"Predicción futura\", color=\"red\")\n",
        "ax.fill_between(future_index,\n",
        "                y_future_pred - 1.96 * std_error,\n",
        "                y_future_pred + 1.96 * std_error,\n",
        "                color=\"red\", alpha=0.2, label=\"IC 95%\")\n",
        "\n",
        "# Etiquetas y leyenda\n",
        "ax.set_title(\"Predicción del Cargo de Regulación: Observado, Actual y Futura\")\n",
        "ax.set_xlabel(\"Índice de tiempo\")\n",
        "ax.set_ylabel(\"€\")\n",
        "ax.grid(True)\n",
        "ax.legend()\n",
        "plt.tight_layout()\n",
        "plt.show()\n"
      ]
    },
    {
      "cell_type": "code",
      "execution_count": null,
      "metadata": {
        "colab": {
          "background_save": true
        },
        "id": "evW4whCV1qsz"
      },
      "outputs": [],
      "source": [
        "len(y_future_pred)"
      ]
    },
    {
      "cell_type": "code",
      "execution_count": null,
      "metadata": {
        "colab": {
          "background_save": true
        },
        "id": "8X6gX2Zql6Fq"
      },
      "outputs": [],
      "source": [
        "##REAL##\n",
        "import matplotlib.dates as mdates\n",
        "\n",
        "\n",
        "# 5. Eliminar nulos por lags\n",
        "df_real = df_real.dropna()\n",
        "# Suponiendo que tienes \"Fecha_Prev\" y \"Hora\" en df_real\n",
        "df_real[\"Fecha_Prev\"] = pd.to_datetime(df_real[\"Fecha_Prev\"], dayfirst=True)\n",
        "df_real[\"fecha_hora\"] = df_real[\"Fecha_Prev\"] + pd.to_timedelta(df_real[\"Hora\"] - 1, unit=\"h\")\n",
        "\n",
        "\n",
        "X_real = df_real.drop(columns=[\"cargo de regulación\", \"Fecha_Prev\", \"fecha_hora\", \"media_cargo_por_hora\"])\n",
        "\n",
        "y_real = df_real[\"cargo de regulación\"]\n",
        "\n",
        "# Predicción y evaluación\n",
        "y_pred_real = modelo_xgb.predict(X_real)\n",
        "mae_real = mean_absolute_error(y_real, y_pred_real)\n",
        "rmse_real = np.sqrt(mean_squared_error(y_real, y_pred_real))\n",
        "\n",
        "mae_real, rmse_real\n",
        "\n",
        "\n",
        "# Crear series alineadas\n",
        "min_len = min(len(y_real), len(y_pred_real), len(y_future_pred))\n",
        "\n",
        "# Ajustar índice de las series alineadas\n",
        "fechas = df_real[\"fecha_hora\"][-min_len:].values  # índice real por hora\n",
        "\n",
        "y_real_aligned = pd.Series(y_real[-min_len:].values, index=fechas)\n",
        "y_pred_real_aligned = pd.Series(y_pred_real[-min_len:], index=fechas)\n",
        "y_future_pred_aligned = pd.Series(y_future_pred[-min_len:], index=fechas)\n",
        "\n",
        "\n",
        "plt.figure(figsize=(15, 6))\n",
        "plt.plot(y_real_aligned.index, y_real_aligned, label=\"Valor real (BRP)\", linewidth=2)\n",
        "plt.plot(y_future_pred_aligned.index, y_future_pred_aligned, label=\"Predicción original (con datos históricos)\", linestyle=\"--\")\n",
        "plt.plot(y_pred_real_aligned.index, y_pred_real_aligned, label=\"Predicción con datos reales\", linestyle=\"-\")\n",
        "\n",
        "# Ejes de tiempo formateados\n",
        "# Ejes de tiempo formateados\n",
        "plt.gca().xaxis.set_major_formatter(mdates.DateFormatter('%d %b %Y'))  # Día Mes Año\n",
        "plt.gca().xaxis.set_major_locator(mdates.DayLocator(interval=1))       # Mostrar cada día\n",
        "\n",
        "\n",
        "# Estética\n",
        "plt.xlabel(\"Fecha y hora\")\n",
        "plt.ylabel(\"Cargo de regulación (€)\")\n",
        "plt.title(\"Comparación de predicciones vs valores reales (15–21 marzo 2025)\")\n",
        "plt.legend()\n",
        "plt.grid(True)\n",
        "plt.tight_layout()\n",
        "plt.show()\n",
        "\n",
        "# Calcular los totales para cada serie\n",
        "total_real = np.sum(y_real)\n",
        "total_pred_real = np.sum(y_pred_real)\n",
        "total_pred_original = np.sum(y_future_pred)\n",
        "\n",
        "# Calcular diferencias y errores relativos\n",
        "diferencia_real_pred = total_pred_real - total_real\n",
        "error_pct_real_pred = (diferencia_real_pred / total_real) * 100\n",
        "\n",
        "diferencia_real_orig = total_pred_original - total_real\n",
        "error_pct_real_orig = (diferencia_real_orig / total_real) * 100\n",
        "\n",
        "# Crear DataFrame resumen\n",
        "df_totales = pd.DataFrame({\n",
        "    \"Categoría\": [\n",
        "        \"Valor real (BRP)\",\n",
        "        \"Predicción con datos reales\",\n",
        "        \"Predicción original histórica\"\n",
        "    ],\n",
        "    \"Total (€)\": [\n",
        "        round(total_real, 2),\n",
        "        round(total_pred_real, 2),\n",
        "        round(total_pred_original, 2)\n",
        "    ],\n",
        "    \"    Diferencia con real (€)\": [\n",
        "        \"-\",\n",
        "        f\"{diferencia_real_pred:+.2f}\",\n",
        "        f\"{diferencia_real_orig:+.2f}\"\n",
        "    ],\n",
        "    \"    Error relativo (%)\": [\n",
        "        \"-\",\n",
        "        f\"{error_pct_real_pred:+.2f}%\",\n",
        "        f\"{error_pct_real_orig:+.2f}%\"\n",
        "    ]\n",
        "})\n",
        "\n",
        "# Mostrar la tabla\n",
        "print(df_totales.to_string(index=False))"
      ]
    },
    {
      "cell_type": "code",
      "execution_count": null,
      "metadata": {
        "colab": {
          "background_save": true
        },
        "id": "9tUuCmmlWkFz"
      },
      "outputs": [],
      "source": [
        "abs_error_verde = abs(y_pred_real_aligned - y_real_aligned)\n",
        "abs_error_naranja = abs(y_future_pred_aligned - y_real_aligned)\n",
        "\n",
        "print(\"MAE con datos reales:\", abs_error_verde.mean())\n",
        "print(\"MAE predicción histórica:\", abs_error_naranja.mean())\n"
      ]
    },
    {
      "cell_type": "markdown",
      "metadata": {
        "id": "beEK9QzYBe5V"
      },
      "source": [
        "##MODELO2"
      ]
    },
    {
      "cell_type": "code",
      "execution_count": null,
      "metadata": {
        "colab": {
          "background_save": true
        },
        "id": "36GuDne9AfFw"
      },
      "outputs": [],
      "source": [
        "# Variables renovables\n",
        "renovables = [\"Solar\", \"Wind\", \"Imports\", \"Pumping\", \"pool\", \"Hydro\"]\n",
        "max_lag = 6  # Hasta 6 horas de desfase\n",
        "\n",
        "# DataFrame para guardar las correlaciones por lag (incluyendo lag 0)\n",
        "correlaciones_lags = pd.DataFrame(index=range(0, max_lag+1), columns=renovables)\n",
        "\n",
        "# Calcular correlación por lag\n",
        "for var in renovables:\n",
        "    for lag in range(0, max_lag+1):  # <-- empezamos en 0\n",
        "        correlacion = df[var].shift(lag).corr(df[\"cargo de regulación\"])\n",
        "        correlaciones_lags.loc[lag, var] = correlacion\n",
        "\n",
        "correlaciones_lags"
      ]
    },
    {
      "cell_type": "code",
      "execution_count": null,
      "metadata": {
        "colab": {
          "background_save": true
        },
        "id": "XckSriRGCzlZ"
      },
      "outputs": [],
      "source": [
        "# Crear diccionario de medias\n",
        "media_por_hora = suma_por_hora.set_index(\"Hora\")[\"cargo de regulación\"]\n",
        "\n",
        "# Añadir al DataFrame principal\n",
        "datos_sin_outliers[\"media_cargo_por_hora\"] = datos_sin_outliers[\"Hora\"].map(media_por_hora)\n",
        "df[\"media_cargo_por_hora\"] = df[\"Hora\"].map(media_por_hora)"
      ]
    },
    {
      "cell_type": "code",
      "execution_count": null,
      "metadata": {
        "colab": {
          "background_save": true
        },
        "id": "tElrNh3OsibX"
      },
      "outputs": [],
      "source": [
        "len(datos_sin_outliers)"
      ]
    },
    {
      "cell_type": "code",
      "execution_count": null,
      "metadata": {
        "colab": {
          "background_save": true
        },
        "id": "Cm7xae_eTy2E"
      },
      "outputs": [],
      "source": [
        "# Crear DataFrame base\n",
        "df_modelo = datos_sin_outliers.copy()\n",
        "\n",
        "df_modelo[\"Fecha_Prev\"] = pd.to_datetime(df_modelo[\"Fecha_Prev\"], dayfirst=True)\n",
        "df_modelo[\"fecha_hora\"] = df_modelo[\"Fecha_Prev\"] + pd.to_timedelta(df_modelo[\"Hora\"], unit=\"h\")\n",
        "\n",
        "# 3. Ordenar por fecha_hora (crucial)\n",
        "df_modelo = df_modelo.sort_values(\"fecha_hora\").reset_index(drop=True)\n",
        "\n",
        "\n",
        "# Añadir lags más útiles según el análisis\n",
        "df_modelo[\"Solar_t\"] = df_modelo[\"Solar\"]\n",
        "df_modelo[\"Solar_t-1\"] = df_modelo[\"Solar\"].shift(-1)\n",
        "\n",
        "df_modelo[\"Wind_t\"] = df_modelo[\"Wind\"]\n",
        "\n",
        "df_modelo[\"Hydro_t-1\"] = df_modelo[\"Hydro\"].shift(-1)\n",
        "\n",
        "df_modelo[\"pool\"] = df_modelo[\"pool\"]\n",
        "df_modelo[\"cargo de regulacion_t-1\"] = df_modelo[\"cargo de regulación\"].shift(1)\n",
        "\n",
        "\n",
        "\n",
        "# Añadir la media histórica por hora\n",
        "df_modelo[\"media_cargo_por_hora\"] = datos_sin_outliers[\"media_cargo_por_hora\"]\n",
        "\n",
        "# Eliminar filas con NaNs generados por los lags\n",
        "df_modelo = df_modelo.dropna()\n",
        "\n",
        "# Variables predictoras y target\n",
        "X = df_modelo[[\"Solar_t\",  \"pool\",\"Solar_t-1\",\"Wind_t\",\n",
        "               \"cargo de regulacion_t-1\", \"desviacion total\"]]\n",
        "#X = df_modelo.drop(columns=[\"cargo de regulación\", \"Fecha_Prev\", \"AÑO\"])  # features\n",
        "y = df_modelo[\"cargo de regulación\"]\n",
        "\n",
        "# División temporal: 80% entrenamiento, 20% test\n",
        "split_index = int(len(df_modelo) * 0.8)\n",
        "X_train, X_test = X.iloc[:split_index], X.iloc[split_index:]\n",
        "y_train, y_test = y.iloc[:split_index], y.iloc[split_index:]\n",
        "fechas_test = df_modelo[\"fecha_hora\"].iloc[split_index:]\n",
        "\n",
        "# Entrenar modelo XGBoost\n",
        "modelo_xgb2 = XGBRegressor(n_estimators=150, learning_rate=0.05, max_depth=4, random_state=42)\n",
        "modelo_xgb2.fit(X_train, y_train)\n",
        "y_pred = modelo_xgb2.predict(X_test)\n",
        "\n",
        "y_test = pd.Series(y_test.values, index=fechas_test)\n",
        "y_pred = pd.Series(y_pred, index=fechas_test)\n",
        "\n",
        "# Evaluación\n",
        "mae2 = mean_absolute_error(y_test, y_pred)\n",
        "rmse2 = np.sqrt(mean_squared_error(y_test, y_pred))\n",
        "\n",
        "# Visualización\n",
        "plt.figure(figsize=(14, 5))\n",
        "plt.plot(y_test.index, y_test, label=\"Observado\", alpha=0.7)\n",
        "plt.plot(y_test.index, y_pred, label=\"Predicción XGBoost (con lags + media)\", color=\"orange\", alpha=0.7)\n",
        "plt.title(\"Predicción del Cargo de Regulación con XGBoost (lags + media horaria)\")\n",
        "plt.xlabel(\"Fecha y hora\")\n",
        "plt.ylabel(\"€\")\n",
        "plt.legend()\n",
        "plt.grid(True)\n",
        "plt.tight_layout()\n",
        "plt.show()\n",
        "\n",
        "mae2, rmse2, mae"
      ]
    },
    {
      "cell_type": "code",
      "execution_count": null,
      "metadata": {
        "colab": {
          "background_save": true
        },
        "id": "ncKLHn5Ovu7D"
      },
      "outputs": [],
      "source": [
        "# Definir el grid de hiperparámetros a probar\n",
        "param_grid = {\n",
        "    'n_estimators': [100, 150, 200],\n",
        "    'learning_rate': [0.05, 0.1, 0.2],\n",
        "    'max_depth': [4, 6, 8]\n",
        "}\n",
        "\n",
        "# Crear el modelo base\n",
        "xgb_model = XGBRegressor(random_state=42)\n",
        "\n",
        "# Configurar la búsqueda\n",
        "grid_search_xgb = GridSearchCV(\n",
        "    estimator=xgb_model,\n",
        "    param_grid=param_grid,\n",
        "    scoring='neg_mean_absolute_error',  # o 'neg_root_mean_squared_error'\n",
        "    cv=3,\n",
        "    verbose=1,\n",
        "    n_jobs=-1\n",
        ")\n",
        "\n",
        "# Entrenar con los datos de entrenamiento\n",
        "#grid_search_xgb.fit(X_train, y_train)\n",
        "\n",
        "# Resultados\n",
        "#print(\"Mejores parámetros encontrados:\", grid_search_xgb.best_params_)\n"
      ]
    },
    {
      "cell_type": "code",
      "execution_count": null,
      "metadata": {
        "colab": {
          "background_save": true
        },
        "id": "m20g9itSEU7G"
      },
      "outputs": [],
      "source": [
        "importances = modelo_xgb2.feature_importances_\n",
        "features = X.columns\n",
        "\n",
        "# Ordenar importancias\n",
        "sorted_idx = np.argsort(importances)[::-1]\n",
        "sorted_features = features[sorted_idx]\n",
        "sorted_importances = importances[sorted_idx]\n",
        "\n",
        "# Gráfico\n",
        "plt.figure(figsize=(10, 6))\n",
        "plt.barh(sorted_features, sorted_importances, color=\"steelblue\")\n",
        "plt.xlabel(\"Importancia\")\n",
        "plt.title(\"Importancia de Variables en XGBoost\")\n",
        "plt.gca().invert_yaxis()  # La más importante arriba\n",
        "plt.tight_layout()\n",
        "plt.show()"
      ]
    },
    {
      "cell_type": "code",
      "execution_count": null,
      "metadata": {
        "colab": {
          "background_save": true
        },
        "id": "N8CrMmvAWpwA"
      },
      "outputs": [],
      "source": [
        "# Crear una figura combinada con test histórico + semana futura\n",
        "fig, ax = plt.subplots(figsize=(16, 6))\n",
        "\n",
        "# 1. Parte histórica: y_test vs predicción\n",
        "ax.plot(y_test.index, y_test, label=\"Observado\", alpha=0.7)\n",
        "ax.plot(y_test.index, y_pred, label=\"Predicción XGBoost\", color=\"orange\", alpha=0.7)\n",
        "\n",
        "# 2. Parte futura: predicción con intervalo\n",
        "residuos = y_test - y_pred\n",
        "std_error = residuos.std()\n",
        "\n",
        "X_future = X_test.tail(168).copy()\n",
        "y_future_pred = modelo_xgb2.predict(X_future)\n",
        "last_index = y_test.index[-1]\n",
        "\n",
        "# Crear índice extendido para la semana futura\n",
        "# Crear índice extendido para la semana futura\n",
        "future_index = pd.date_range(start=last_index + pd.Timedelta(hours=1), periods=168, freq='H')\n",
        "\n",
        "# Agregar al gráfico\n",
        "ax.plot(future_index, y_future_pred, label=\"Predicción futura\", color=\"red\")\n",
        "ax.fill_between(future_index,\n",
        "                y_future_pred - 1.96 * std_error,\n",
        "                y_future_pred + 1.96 * std_error,\n",
        "                color=\"red\", alpha=0.2, label=\"IC 95%\")\n",
        "\n",
        "# Etiquetas y leyenda\n",
        "ax.set_title(\"Predicción del Cargo de Regulación: Observado, Actual y Futura\")\n",
        "ax.set_xlabel(\"Índice de tiempo\")\n",
        "ax.set_ylabel(\"€\")\n",
        "ax.grid(True)\n",
        "ax.legend()\n",
        "plt.tight_layout()\n",
        "plt.show()\n"
      ]
    },
    {
      "cell_type": "code",
      "execution_count": null,
      "metadata": {
        "colab": {
          "background_save": true
        },
        "id": "plACM9OSYRlO"
      },
      "outputs": [],
      "source": [
        "##REAL##\n",
        "\n",
        "df_modelo2 = df_real.copy()\n",
        "\n",
        "# 4. Crear lags\n",
        "df_modelo2[\"Solar_t\"] = df_modelo2[\"Solar\"]\n",
        "df_modelo2[\"Solar_t-1\"] = df_modelo2[\"Solar\"].shift(-1)\n",
        "df_modelo2[\"Solar_t-2\"] = df_modelo2[\"Solar\"].shift(2)\n",
        "df_modelo2[\"Wind_t\"] = df_modelo2[\"Wind\"]\n",
        "df_modelo2[\"Wind_t-1\"] = df_modelo2[\"Wind\"].shift(1)\n",
        "df_modelo2[\"Imports_t\"] = df_modelo2[\"Imports\"]\n",
        "df_modelo2[\"Imports_t-1\"] = df_modelo2[\"Imports\"].shift(1)\n",
        "df_modelo2[\"Hydro_t-1\"] = df_modelo2[\"Hydro\"].shift(1)\n",
        "df_modelo2[\"cargo de regulacion_t-1\"] = df_modelo2[\"cargo de regulación\"].shift(1)\n",
        "\n",
        "# 5. Eliminar nulos por lags\n",
        "df_modelo2 = df_modelo2.dropna()\n",
        "\n",
        "# Variables predictoras y target\n",
        "columnas_modelo = [\"Solar_t\",  \"pool\",\"Solar_t-1\",\"Wind_t\",\n",
        "       \"cargo de regulacion_t-1\", \"desviacion total\"]\n",
        "X_real = df_modelo2[columnas_modelo]\n",
        "y_real = df_modelo2[\"cargo de regulación\"]\n",
        "\n",
        "# Predicción y evaluación\n",
        "y_pred_real = modelo_xgb2.predict(X_real)\n",
        "mae_real = mean_absolute_error(y_real, y_pred_real)\n",
        "rmse_real = np.sqrt(mean_squared_error(y_real, y_pred_real))\n",
        "\n",
        "mae_real, rmse_real\n",
        "\n",
        "\n",
        "# Crear series alineadas\n",
        "min_len = min(len(y_real), len(y_pred_real), len(y_future_pred))\n",
        "fechas = df_modelo2.index[-min_len:]\n",
        "\n",
        "y_real_aligned = pd.Series(y_real[-min_len:], index=fechas)\n",
        "y_pred_real_aligned = pd.Series(y_pred_real[-min_len:], index=fechas)\n",
        "y_future_pred_aligned = pd.Series(y_future_pred[-min_len:], index=fechas)\n",
        "\n",
        "\n",
        "# Graficar\n",
        "plt.figure(figsize=(15, 6))\n",
        "plt.plot(y_real_aligned, label=\"Valor real (BRP)\", linewidth=2)\n",
        "plt.plot(y_future_pred_aligned, label=\"Predicción original (con datos históricos)\", linestyle=\"--\")\n",
        "plt.plot(y_pred_real_aligned, label=\"Predicción con datos reales\", linestyle=\"-\")\n",
        "\n",
        "# Estética\n",
        "plt.xlabel(\"Fecha y hora\")\n",
        "plt.ylabel(\"Cargo de regulación (€)\")\n",
        "plt.title(\"Comparación de predicciones vs valores reales (15–21 marzo 2025)\")\n",
        "plt.legend()\n",
        "plt.grid(True)\n",
        "plt.tight_layout()\n",
        "plt.show()\n",
        "\n",
        "\n",
        "total_pred_real = np.sum(y_pred_real)\n",
        "total_pred_original = np.sum(y_future_pred)\n",
        "\n",
        "# Calcular diferencias y errores relativos\n",
        "diferencia_real_pred = total_pred_real - total_real\n",
        "error_pct_real_pred = (diferencia_real_pred / total_real) * 100\n",
        "\n",
        "diferencia_real_orig = total_pred_original - total_real\n",
        "error_pct_real_orig = (diferencia_real_orig / total_real) * 100\n",
        "\n",
        "# Crear DataFrame resumen\n",
        "df_totales = pd.DataFrame({\n",
        "    \"Categoría\": [\n",
        "        \"Valor real (BRP)\",\n",
        "        \"Predicción con datos reales\",\n",
        "        \"Predicción original histórica\"\n",
        "    ],\n",
        "    \"Total (€)\": [\n",
        "        round(total_real, 2),\n",
        "        round(total_pred_real, 2),\n",
        "        round(total_pred_original, 2)\n",
        "    ],\n",
        "    \"    Diferencia con real (€)\": [\n",
        "        \"-\",\n",
        "        f\"{diferencia_real_pred:+.2f}\",\n",
        "        f\"{diferencia_real_orig:+.2f}\"\n",
        "    ],\n",
        "    \"    Error relativo (%)\": [\n",
        "        \"-\",\n",
        "        f\"{error_pct_real_pred:+.2f}%\",\n",
        "        f\"{error_pct_real_orig:+.2f}%\"\n",
        "    ]\n",
        "})\n",
        "\n",
        "# Mostrar la tabla\n",
        "print(df_totales.to_string(index=False))\n"
      ]
    },
    {
      "cell_type": "code",
      "execution_count": null,
      "metadata": {
        "colab": {
          "background_save": true
        },
        "id": "7o9NcRUhW5Sf"
      },
      "outputs": [],
      "source": [
        "abs_error_verde = abs(y_pred_real_aligned - y_real_aligned)\n",
        "abs_error_naranja = abs(y_future_pred_aligned - y_real_aligned)\n",
        "\n",
        "print(\"MAE con datos reales:\", abs_error_verde.mean())\n",
        "print(\"MAE predicción histórica:\", abs_error_naranja.mean())"
      ]
    },
    {
      "cell_type": "markdown",
      "metadata": {
        "id": "L20Tl8AoXk28"
      },
      "source": [
        "##MODELO3"
      ]
    },
    {
      "cell_type": "code",
      "execution_count": null,
      "metadata": {
        "colab": {
          "background_save": true
        },
        "id": "pAjE91o_XkP-"
      },
      "outputs": [],
      "source": [
        "# Crear DataFrame base\n",
        "df_modelo = datos_sin_outliers.copy()\n",
        "\n",
        "# Añadir lags más útiles según el análisis\n",
        "df_modelo[\"Other Thermal_t-1\"] = df_modelo[\"Other Thermal\"].shift(1)\n",
        "df_modelo[\"Natural Gas - Cogeneration_t-1\"] = df_modelo[\"Natural Gas - Cogeneration\"].shift(1)\n",
        "df_modelo[\"Natural Gas - Combined Cycle_t-1\"] = df_modelo[\"Natural Gas - Combined Cycle\"].shift(1)\n",
        "df_modelo[\"cargo de regulacion_t-1\"] = df_modelo[\"cargo de regulación\"].shift(-1)\n",
        "df_modelo[\"Exports_t-1\"] = df_modelo[\"Exports\"].shift(1)\n",
        "df_modelo[\"Pumping_t-1\"] = df_modelo[\"Pumping\"].shift(1)\n",
        "\n",
        "\n",
        "# Añadir la media histórica por hora\n",
        "df_modelo[\"media_cargo_por_hora\"] = datos_sin_outliers[\"media_cargo_por_hora\"]\n",
        "\n",
        "# Eliminar filas con NaNs generados por los lags\n",
        "df_modelo = df_modelo.dropna()\n",
        "\n",
        "# Variables predictoras y target\n",
        "X = df_modelo[[\"Other Thermal\", \"Other Thermal_t-1\",\"Exports\",\"Exports_t-1\", \"Natural Gas - Cogeneration\",\"Natural Gas - Cogeneration_t-1\",\n",
        "               \"Natural Gas - Combined Cycle\", \"Natural Gas - Combined Cycle_t-1\", \"pool\", \"cargo de regulacion_t-1\",\n",
        "               \"media_cargo_por_hora\", \"Pumping\"]]\n",
        "#X = df_modelo.drop(columns=[\"cargo de regulación\", \"Fecha_Prev\", \"AÑO\"])  # features\n",
        "y = df_modelo[\"cargo de regulación\"]\n",
        "\n",
        "# División temporal: 80% entrenamiento, 20% test\n",
        "split_index = int(len(df_modelo) * 0.8)\n",
        "X_train, X_test = X.iloc[:split_index], X.iloc[split_index:]\n",
        "y_train, y_test = y.iloc[:split_index], y.iloc[split_index:]\n",
        "\n",
        "# Entrenar modelo XGBoost\n",
        "modelo_xgb3 = XGBRegressor(n_estimators=100, learning_rate=0.1, max_depth=6, random_state=42)\n",
        "modelo_xgb3.fit(X_train, y_train)\n",
        "y_pred = modelo_xgb3.predict(X_test)\n",
        "\n",
        "# Evaluación\n",
        "mae3 = mean_absolute_error(y_test, y_pred)\n",
        "rmse3 = np.sqrt(mean_squared_error(y_test, y_pred))\n",
        "\n",
        "# Visualización\n",
        "plt.figure(figsize=(14, 5))\n",
        "plt.plot(y_test.index, y_test, label=\"Observado\", alpha=0.7)\n",
        "plt.plot(y_test.index, y_pred, label=\"Predicción XGBoost (con lags + media)\", color=\"orange\", alpha=0.7)\n",
        "plt.title(\"Predicción del Cargo de Regulación con XGBoost (lags + media horaria)\")\n",
        "plt.xlabel(\"Fecha y hora\")\n",
        "plt.ylabel(\"€\")\n",
        "plt.legend()\n",
        "plt.grid(True)\n",
        "plt.tight_layout()\n",
        "plt.show()\n",
        "\n",
        "mae3, rmse3"
      ]
    },
    {
      "cell_type": "code",
      "execution_count": null,
      "metadata": {
        "colab": {
          "background_save": true
        },
        "id": "SBRpkbeBbNFh"
      },
      "outputs": [],
      "source": [
        "importances = modelo_xgb3.feature_importances_\n",
        "features = X.columns\n",
        "\n",
        "# Ordenar importancias\n",
        "sorted_idx = np.argsort(importances)[::-1]\n",
        "sorted_features = features[sorted_idx]\n",
        "sorted_importances = importances[sorted_idx]\n",
        "\n",
        "# Gráfico\n",
        "plt.figure(figsize=(10, 6))\n",
        "plt.barh(sorted_features, sorted_importances, color=\"steelblue\")\n",
        "plt.xlabel(\"Importancia\")\n",
        "plt.title(\"Importancia de Variables en XGBoost\")\n",
        "plt.gca().invert_yaxis()  # La más importante arriba\n",
        "plt.tight_layout()\n",
        "plt.show()"
      ]
    },
    {
      "cell_type": "code",
      "execution_count": null,
      "metadata": {
        "colab": {
          "background_save": true
        },
        "id": "ArB6fvGob1St"
      },
      "outputs": [],
      "source": [
        "# Crear una figura combinada con test histórico + semana futura\n",
        "fig, ax = plt.subplots(figsize=(16, 6))\n",
        "\n",
        "# 1. Parte histórica: y_test vs predicción\n",
        "ax.plot(y_test.index, y_test, label=\"Observado\", alpha=0.7)\n",
        "ax.plot(y_test.index, y_pred, label=\"Predicción XGBoost\", color=\"orange\", alpha=0.7)\n",
        "\n",
        "# 2. Parte futura: predicción con intervalo\n",
        "residuos = y_test - y_pred\n",
        "std_error = residuos.std()\n",
        "\n",
        "X_future = X_test.tail(165).copy()\n",
        "y_future_pred = modelo_xgb3.predict(X_future)\n",
        "last_index = y_test.index[-1]\n",
        "\n",
        "# Crear índice extendido para la semana futura\n",
        "future_index = range(last_index + 1, last_index + 1 + 165)\n",
        "\n",
        "# Agregar al gráfico\n",
        "ax.plot(future_index, y_future_pred, label=\"Predicción futura\", color=\"red\")\n",
        "ax.fill_between(future_index,\n",
        "                y_future_pred - 1.96 * std_error,\n",
        "                y_future_pred + 1.96 * std_error,\n",
        "                color=\"red\", alpha=0.2, label=\"IC 95%\")\n",
        "\n",
        "# Etiquetas y leyenda\n",
        "ax.set_title(\"Predicción del Cargo de Regulación: Observado, Actual y Futura\")\n",
        "ax.set_xlabel(\"Índice de tiempo\")\n",
        "ax.set_ylabel(\"€\")\n",
        "ax.grid(True)\n",
        "ax.legend()\n",
        "plt.tight_layout()\n",
        "plt.show()\n"
      ]
    },
    {
      "cell_type": "code",
      "execution_count": null,
      "metadata": {
        "colab": {
          "background_save": true
        },
        "id": "QUFPdhk4osaP"
      },
      "outputs": [],
      "source": [
        "# Añadir lags más útiles según el análisis\n",
        "\n",
        "df_modelo3=df_real.copy()\n",
        "df_modelo3[\"Other Thermal_t-1\"] = df_modelo3[\"Other Thermal\"].shift(1)\n",
        "df_modelo3[\"Natural Gas - Cogeneration_t-1\"] = df_modelo3[\"Natural Gas - Cogeneration\"].shift(1)\n",
        "df_modelo3[\"Natural Gas - Combined Cycle_t-1\"] = df_modelo3[\"Natural Gas - Combined Cycle\"].shift(1)\n",
        "df_modelo3[\"Hydro_t-1\"] = df_modelo3[\"Hydro\"].shift(1)\n",
        "df_modelo3[\"cargo de regulacion_t-1\"] = df_modelo3[\"cargo de regulación\"].shift(-1)\n",
        "df_modelo3[\"Exports_t-1\"] = df_modelo3[\"Exports\"].shift(1)\n",
        "df_modelo3[\"Pumping_t-1\"] = df_modelo3[\"Pumping\"].shift(1)\n",
        "\n",
        "\n",
        "# 5. Eliminar nulos por lags\n",
        "df_modelo3 = df_modelo3.dropna()\n",
        "\n",
        "# Variables predictoras y target\n",
        "columnas_modelo = [\"Other Thermal\", \"Other Thermal_t-1\",\"Exports\",\"Exports_t-1\", \"Natural Gas - Cogeneration\",\"Natural Gas - Cogeneration_t-1\",\n",
        "               \"Natural Gas - Combined Cycle\", \"Natural Gas - Combined Cycle_t-1\", \"pool\", \"cargo de regulacion_t-1\",\n",
        "               \"media_cargo_por_hora\", \"Pumping\"]\n",
        "X_real = df_modelo3[columnas_modelo]\n",
        "y_real = df_modelo3[\"cargo de regulación\"]\n",
        "\n",
        "# Predicción y evaluación\n",
        "y_pred_real = modelo_xgb3.predict(X_real)\n",
        "mae_real = mean_absolute_error(y_real, y_pred_real)\n",
        "rmse_real = np.sqrt(mean_squared_error(y_real, y_pred_real))\n",
        "\n",
        "mae_real, rmse_real\n",
        "\n",
        "\n",
        "\n",
        "# Crear series alineadas\n",
        "min_len = min(len(y_real), len(y_pred_real), len(y_future_pred))\n",
        "fechas = df_modelo3.index[-min_len:]\n",
        "\n",
        "y_real_aligned = pd.Series(y_real[-min_len:], index=fechas)\n",
        "y_pred_real_aligned = pd.Series(y_pred_real[-min_len:], index=fechas)\n",
        "y_future_pred_aligned = pd.Series(y_future_pred[-min_len:], index=fechas)\n",
        "\n",
        "\n",
        "# Graficar\n",
        "plt.figure(figsize=(15, 6))\n",
        "plt.plot(y_real_aligned, label=\"Valor real (BRP)\", linewidth=2)\n",
        "plt.plot(y_future_pred_aligned, label=\"Predicción original (con datos históricos)\", linestyle=\"--\")\n",
        "plt.plot(y_pred_real_aligned, label=\"Predicción con datos reales\", linestyle=\"-\")\n",
        "\n",
        "# Estética\n",
        "plt.xlabel(\"Fecha y hora\")\n",
        "plt.ylabel(\"Cargo de regulación (€)\")\n",
        "plt.title(\"Comparación de predicciones vs valores reales (15–21 marzo 2025)\")\n",
        "plt.legend()\n",
        "plt.grid(True)\n",
        "plt.tight_layout()\n",
        "plt.show()\n",
        "\n",
        "\n",
        "# Calcular los totales para cada serie\n",
        "total_pred_real = np.sum(y_pred_real)\n",
        "total_pred_original = np.sum(y_future_pred)\n",
        "\n",
        "# Calcular diferencias y errores relativos\n",
        "diferencia_real_pred = total_pred_real - total_real\n",
        "error_pct_real_pred = (diferencia_real_pred / total_real) * 100\n",
        "\n",
        "diferencia_real_orig = total_pred_original - total_real\n",
        "error_pct_real_orig = (diferencia_real_orig / total_real) * 100\n",
        "\n",
        "# Crear DataFrame resumen\n",
        "df_totales = pd.DataFrame({\n",
        "    \"Categoría\": [\n",
        "        \"Valor real (BRP)\",\n",
        "        \"Predicción con datos reales\",\n",
        "        \"Predicción original histórica\"\n",
        "    ],\n",
        "    \"Total (€)\": [\n",
        "        round(total_real, 2),\n",
        "        round(total_pred_real, 2),\n",
        "        round(total_pred_original, 2)\n",
        "    ],\n",
        "    \"    Diferencia con real (€)\": [\n",
        "        \"-\",\n",
        "        f\"{diferencia_real_pred:+.2f}\",\n",
        "        f\"{diferencia_real_orig:+.2f}\"\n",
        "    ],\n",
        "    \"    Error relativo (%)\": [\n",
        "        \"-\",\n",
        "        f\"{error_pct_real_pred:+.2f}%\",\n",
        "        f\"{error_pct_real_orig:+.2f}%\"\n",
        "    ]\n",
        "})\n",
        "\n",
        "# Mostrar la tabla\n",
        "print(df_totales.to_string(index=False))\n"
      ]
    },
    {
      "cell_type": "markdown",
      "metadata": {
        "id": "wHZ-b08-cFsj"
      },
      "source": [
        "##MODELO4"
      ]
    },
    {
      "cell_type": "code",
      "execution_count": null,
      "metadata": {
        "colab": {
          "background_save": true
        },
        "id": "6IpC_RTnee6J"
      },
      "outputs": [],
      "source": [
        "max_lag = 6\n",
        "variables = [col for col in df.columns if col != \"Fecha_Prev\"]\n",
        "\n",
        "# Crear un DataFrame vacío para las correlaciones\n",
        "correlaciones_lags = pd.DataFrame(index=range(0, max_lag+1), columns=variables)\n",
        "\n",
        "# Calcular correlaciones para cada variable y cada lag\n",
        "for var in variables:\n",
        "    for lag in range(0, max_lag+1):\n",
        "        correlacion = df[var].shift(lag).corr(df[\"cargo de regulación\"])\n",
        "        correlaciones_lags.loc[lag, var] = correlacion\n",
        "\n",
        "correlaciones_lags"
      ]
    },
    {
      "cell_type": "code",
      "execution_count": null,
      "metadata": {
        "colab": {
          "background_save": true
        },
        "id": "z9y8P0jIe8Et"
      },
      "outputs": [],
      "source": [
        "# Convertir valores a float para poder filtrar\n",
        "correlaciones_lags_float = correlaciones_lags.astype(float)\n",
        "\n",
        "# Aplicar filtro: obtener solo las correlaciones con valor absoluto > 0.01\n",
        "correlaciones_filtradas_valores = correlaciones_lags_float[correlaciones_lags_float.abs() > 0.1].dropna(how='all', axis=1).dropna(how='all', axis=0)\n",
        "correlaciones_filtradas_valores"
      ]
    },
    {
      "cell_type": "code",
      "execution_count": null,
      "metadata": {
        "colab": {
          "background_save": true
        },
        "id": "ZE4AyWAuVxPW"
      },
      "outputs": [],
      "source": [
        "# Crear DataFrame base\n",
        "df_modelo = datos_sin_outliers.copy()\n",
        "\n",
        "# Añadir lags más útiles según el análisis\n",
        "df_modelo[\"cargo de regulacion_t-1\"] = df_modelo[\"cargo de regulación\"].shift(1)\n",
        "df_modelo[\"cargo de regulacion_t-2\"] = df_modelo[\"cargo de regulación\"].shift(2)\n",
        "df_modelo[\"cargo de regulacion_t-3\"] = df_modelo[\"cargo de regulación\"].shift(3)\n",
        "df_modelo[\"cargo de regulacion_t-4\"] = df_modelo[\"cargo de regulación\"].shift(4)\n",
        "df_modelo[\"cargo de regulacion_t-5\"] = df_modelo[\"cargo de regulación\"].shift(5)\n",
        "df_modelo[\"cargo de regulacion_t-23\"] = df_modelo[\"cargo de regulación\"].shift(23)\n",
        "df_modelo[\"Hydro_t-1\"] = df_modelo[\"Hydro\"].shift(1)\n",
        "df_modelo[\"Hydro_t-2\"] = df_modelo[\"Hydro\"].shift(2)\n",
        "df_modelo[\"Hydro_t-3\"] = df_modelo[\"Hydro\"].shift(3)\n",
        "df_modelo[\"Solar_t-1\"] = df_modelo[\"Solar\"].shift(1)\n",
        "df_modelo[\"Solar_t-2\"] = df_modelo[\"Solar\"].shift(2)\n",
        "df_modelo[\"Solar_t-3\"] = df_modelo[\"Solar\"].shift(3)\n",
        "df_modelo[\"Pumping_t-1\"] = df_modelo[\"Pumping\"].shift(1)\n",
        "df_modelo[\"Pumping_t-2\"] = df_modelo[\"Pumping\"].shift(2)\n",
        "df_modelo[\"Pumping_t-3\"] = df_modelo[\"Pumping\"].shift(3)\n",
        "df_modelo[\"Pumping_t-4\"] = df_modelo[\"Pumping\"].shift(4)\n",
        "df_modelo[\"media_cargo_por_hora_t-1\"] = df_modelo[\"media_cargo_por_hora\"].shift(1)\n",
        "\n",
        "\n",
        "\n",
        "# Añadir la media histórica por hora\n",
        "df_modelo[\"media_cargo_por_hora\"] = datos_sin_outliers[\"media_cargo_por_hora\"]\n",
        "\n",
        "# Eliminar filas con NaNs generados por los lags\n",
        "df_modelo = df_modelo.dropna()\n",
        "\n",
        "# Variables predictoras y target\n",
        "X = df_modelo[[\"cargo de regulacion_t-23\",\"cargo de regulacion_t-2\", \"cargo de regulacion_t-3\", \"cargo de regulacion_t-4\", \"cargo de regulacion_t-5\", \"Hydro\",\n",
        "                \"Hydro_t-1\",\"Hydro_t-2\", \"Hydro_t-3\", \"Solar\",\"Solar_t-1\", \"Solar_t-2\", \"Solar_t-3\", \"media_cargo_por_hora\", \"media_cargo_por_hora_t-1\",\n",
        "               \"Pumping\", \"Pumping_t-1\", \"Pumping_t-2\", \"Pumping_t-3\", \"Pumping_t-4\" ]]\n",
        "#X = df_modelo.drop(columns=[\"cargo de regulación\", \"Fecha_Prev\", \"AÑO\"])  # features\n",
        "y = df_modelo[\"cargo de regulación\"]\n",
        "\n",
        "# División temporal: 80% entrenamiento, 20% test\n",
        "split_index = int(len(df_modelo) * 0.8)\n",
        "X_train, X_test = X.iloc[:split_index], X.iloc[split_index:]\n",
        "y_train, y_test = y.iloc[:split_index], y.iloc[split_index:]\n",
        "\n",
        "# Entrenar modelo XGBoost\n",
        "modelo_xgb4 = XGBRegressor(n_estimators=100, learning_rate=0.1, max_depth=6, random_state=42)\n",
        "modelo_xgb4.fit(X_train, y_train)\n",
        "y_pred = modelo_xgb4.predict(X_test)\n",
        "\n",
        "# Evaluación\n",
        "mae4 = mean_absolute_error(y_test, y_pred)\n",
        "rmse4 = np.sqrt(mean_squared_error(y_test, y_pred))\n",
        "\n",
        "# Visualización\n",
        "plt.figure(figsize=(14, 5))\n",
        "plt.plot(y_test.index, y_test, label=\"Observado\", alpha=0.7)\n",
        "plt.plot(y_test.index, y_pred, label=\"Predicción XGBoost (con lags + media)\", color=\"orange\", alpha=0.7)\n",
        "plt.title(\"Predicción del Cargo de Regulación con XGBoost (lags + media horaria)\")\n",
        "plt.xlabel(\"Fecha y hora\")\n",
        "plt.ylabel(\"€\")\n",
        "plt.legend()\n",
        "plt.grid(True)\n",
        "plt.tight_layout()\n",
        "plt.show()\n",
        "\n",
        "mae4, rmse4"
      ]
    },
    {
      "cell_type": "code",
      "execution_count": null,
      "metadata": {
        "colab": {
          "background_save": true
        },
        "id": "yY8cUouGhbfW"
      },
      "outputs": [],
      "source": [
        "importances = modelo_xgb4.feature_importances_\n",
        "features = X.columns\n",
        "\n",
        "# Ordenar importancias\n",
        "sorted_idx = np.argsort(importances)[::-1]\n",
        "sorted_features = features[sorted_idx]\n",
        "sorted_importances = importances[sorted_idx]\n",
        "\n",
        "# Gráfico\n",
        "plt.figure(figsize=(10, 6))\n",
        "plt.barh(sorted_features, sorted_importances, color=\"steelblue\")\n",
        "plt.xlabel(\"Importancia\")\n",
        "plt.title(\"Importancia de Variables en XGBoost\")\n",
        "plt.gca().invert_yaxis()  # La más importante arriba\n",
        "plt.tight_layout()\n",
        "plt.show()"
      ]
    },
    {
      "cell_type": "code",
      "execution_count": null,
      "metadata": {
        "colab": {
          "background_save": true
        },
        "id": "UEtx62Keh3GK"
      },
      "outputs": [],
      "source": [
        "# Crear una figura combinada con test histórico + semana futura\n",
        "fig, ax = plt.subplots(figsize=(16, 6))\n",
        "\n",
        "# 1. Parte histórica: y_test vs predicción\n",
        "ax.plot(y_test.index, y_test, label=\"Observado\", alpha=0.7)\n",
        "ax.plot(y_test.index, y_pred, label=\"Predicción XGBoost\", color=\"orange\", alpha=0.7)\n",
        "\n",
        "# 2. Parte futura: predicción con intervalo\n",
        "residuos = y_test - y_pred\n",
        "std_error = residuos.std()\n",
        "\n",
        "X_future = X_test.tail(168).copy()\n",
        "y_future_pred = modelo_xgb4.predict(X_future)\n",
        "last_index = y_test.index[-1]\n",
        "\n",
        "# Crear índice extendido para la semana futura\n",
        "future_index = range(last_index + 1, last_index + 1 + 168)\n",
        "\n",
        "# Agregar al gráfico\n",
        "ax.plot(future_index, y_future_pred, label=\"Predicción futura\", color=\"red\")\n",
        "ax.fill_between(future_index,\n",
        "                y_future_pred - 1.96 * std_error,\n",
        "                y_future_pred + 1.96 * std_error,\n",
        "                color=\"red\", alpha=0.2, label=\"IC 95%\")\n",
        "\n",
        "# Etiquetas y leyenda\n",
        "ax.set_title(\"Predicción del Cargo de Regulación: Observado, Actual y Futura\")\n",
        "ax.set_xlabel(\"Índice de tiempo\")\n",
        "ax.set_ylabel(\"€\")\n",
        "ax.grid(True)\n",
        "ax.legend()\n",
        "plt.tight_layout()\n",
        "plt.show()\n"
      ]
    },
    {
      "cell_type": "code",
      "execution_count": null,
      "metadata": {
        "colab": {
          "background_save": true
        },
        "id": "3SMmWbD82LMP"
      },
      "outputs": [],
      "source": [
        "# Añadir lags más útiles según el análisis\n",
        "\n",
        "df_modelo4=df_real.copy()\n",
        "df_modelo4[\"cargo de regulacion_t-1\"] = df_modelo4[\"cargo de regulación\"].shift(1)\n",
        "df_modelo4[\"cargo de regulacion_t-2\"] = df_modelo4[\"cargo de regulación\"].shift(2)\n",
        "df_modelo4[\"cargo de regulacion_t-3\"] = df_modelo4[\"cargo de regulación\"].shift(3)\n",
        "df_modelo4[\"cargo de regulacion_t-4\"] = df_modelo4[\"cargo de regulación\"].shift(4)\n",
        "df_modelo4[\"cargo de regulacion_t-5\"] = df_modelo4[\"cargo de regulación\"].shift(5)\n",
        "df_modelo4[\"cargo de regulacion_t-23\"] = df_modelo4[\"cargo de regulación\"].shift(23)\n",
        "\n",
        "df_modelo4[\"Hydro_t-1\"] = df_modelo4[\"Hydro\"].shift(1)\n",
        "df_modelo4[\"Hydro_t-2\"] = df_modelo4[\"Hydro\"].shift(2)\n",
        "df_modelo4[\"Hydro_t-3\"] = df_modelo4[\"Hydro\"].shift(3)\n",
        "\n",
        "df_modelo4[\"Solar_t-1\"] = df_modelo4[\"Solar\"].shift(1)\n",
        "df_modelo4[\"Solar_t-2\"] = df_modelo4[\"Solar\"].shift(2)\n",
        "df_modelo4[\"Solar_t-3\"] = df_modelo4[\"Solar\"].shift(3)\n",
        "\n",
        "df_modelo4[\"Pumping_t-1\"] = df_modelo4[\"Pumping\"].shift(1)\n",
        "df_modelo4[\"Pumping_t-2\"] = df_modelo4[\"Pumping\"].shift(2)\n",
        "df_modelo4[\"Pumping_t-3\"] = df_modelo4[\"Pumping\"].shift(3)\n",
        "df_modelo4[\"Pumping_t-4\"] = df_modelo4[\"Pumping\"].shift(4)\n",
        "\n",
        "df_modelo4[\"media_cargo_por_hora_t-1\"] = df_modelo4[\"media_cargo_por_hora\"].shift(1)\n",
        "\n",
        "\n",
        "\n",
        "# 5. Eliminar nulos por lags\n",
        "df_modelo4 = df_modelo4.dropna()\n",
        "\n",
        "# Variables predictoras y target\n",
        "columnas_modelo = [\"cargo de regulacion_t-23\",\"cargo de regulacion_t-2\", \"cargo de regulacion_t-3\", \"cargo de regulacion_t-4\", \"cargo de regulacion_t-5\", \"Hydro\",\n",
        "                \"Hydro_t-1\",\"Hydro_t-2\", \"Hydro_t-3\", \"Solar\",\"Solar_t-1\", \"Solar_t-2\", \"Solar_t-3\", \"media_cargo_por_hora\", \"media_cargo_por_hora_t-1\",\n",
        "               \"Pumping\", \"Pumping_t-1\", \"Pumping_t-2\", \"Pumping_t-3\", \"Pumping_t-4\" ]\n",
        "X_real = df_modelo4[columnas_modelo]\n",
        "y_real = df_modelo4[\"cargo de regulación\"]\n",
        "\n",
        "# Predicción y evaluación\n",
        "y_pred_real = modelo_xgb4.predict(X_real)\n",
        "mae_real = mean_absolute_error(y_real, y_pred_real)\n",
        "rmse_real = np.sqrt(mean_squared_error(y_real, y_pred_real))\n",
        "\n",
        "mae_real, rmse_real\n",
        "\n",
        "\n",
        "\n",
        "# Crear series alineadas\n",
        "min_len = min(len(y_real), len(y_pred_real), len(y_future_pred))\n",
        "fechas = df_modelo4.index[-min_len:]\n",
        "\n",
        "y_real_aligned = pd.Series(y_real[-min_len:], index=fechas)\n",
        "y_pred_real_aligned = pd.Series(y_pred_real[-min_len:], index=fechas)\n",
        "y_future_pred_aligned = pd.Series(y_future_pred[-min_len:], index=fechas)\n",
        "\n",
        "\n",
        "# Graficar\n",
        "plt.figure(figsize=(15, 6))\n",
        "plt.plot(y_real_aligned, label=\"Valor real (BRP)\", linewidth=2)\n",
        "plt.plot(y_future_pred_aligned, label=\"Predicción original (con datos históricos)\", linestyle=\"--\")\n",
        "plt.plot(y_pred_real_aligned, label=\"Predicción con datos reales\", linestyle=\"-\")\n",
        "\n",
        "# Estética\n",
        "plt.xlabel(\"Fecha y hora\")\n",
        "plt.ylabel(\"Cargo de regulación (€)\")\n",
        "plt.title(\"Comparación de predicciones vs valores reales (15–21 marzo 2025)\")\n",
        "plt.legend()\n",
        "plt.grid(True)\n",
        "plt.tight_layout()\n",
        "plt.show()\n",
        "\n",
        "\n",
        "# Calcular los totales para cada serie\n",
        "total_pred_real = np.sum(y_pred_real)\n",
        "total_pred_original = np.sum(y_future_pred)\n",
        "\n",
        "# Calcular diferencias y errores relativos\n",
        "diferencia_real_pred = total_pred_real - total_real\n",
        "error_pct_real_pred = (diferencia_real_pred / total_real) * 100\n",
        "\n",
        "diferencia_real_orig = total_pred_original - total_real\n",
        "error_pct_real_orig = (diferencia_real_orig / total_real) * 100\n",
        "\n",
        "# Crear DataFrame resumen\n",
        "df_totales = pd.DataFrame({\n",
        "    \"Categoría\": [\n",
        "        \"Valor real (BRP)\",\n",
        "        \"Predicción con datos reales\",\n",
        "        \"Predicción original histórica\"\n",
        "    ],\n",
        "    \"Total (€)\": [\n",
        "        round(total_real, 2),\n",
        "        round(total_pred_real, 2),\n",
        "        round(total_pred_original, 2)\n",
        "    ],\n",
        "    \"    Diferencia con real (€)\": [\n",
        "        \"-\",\n",
        "        f\"{diferencia_real_pred:+.2f}\",\n",
        "        f\"{diferencia_real_orig:+.2f}\"\n",
        "    ],\n",
        "    \"    Error relativo (%)\": [\n",
        "        \"-\",\n",
        "        f\"{error_pct_real_pred:+.2f}%\",\n",
        "        f\"{error_pct_real_orig:+.2f}%\"\n",
        "    ]\n",
        "})\n",
        "\n",
        "# Mostrar la tabla\n",
        "print(df_totales.to_string(index=False))\n"
      ]
    },
    {
      "cell_type": "markdown",
      "metadata": {
        "id": "asWEDYhwiGEu"
      },
      "source": [
        "##MODELO5\n"
      ]
    },
    {
      "cell_type": "code",
      "execution_count": null,
      "metadata": {
        "colab": {
          "background_save": true
        },
        "id": "XwdvuO4siIqe"
      },
      "outputs": [],
      "source": [
        "# Crear DataFrame base\n",
        "df_modelo = datos_sin_outliers.copy()\n",
        "\n",
        "# Añadir lags más útiles según el análisis\n",
        "df_modelo[\"cargo de regulacion_t-1\"] = df_modelo[\"cargo de regulación\"].shift(-1)\n",
        "df_modelo[\"cargo de regulacion_t-2\"] = df_modelo[\"cargo de regulación\"].shift(2)\n",
        "df_modelo[\"cargo de regulacion_t-3\"] = df_modelo[\"cargo de regulación\"].shift(3)\n",
        "df_modelo[\"cargo de regulacion_t-4\"] = df_modelo[\"cargo de regulación\"].shift(4)\n",
        "\n",
        "df_modelo[\"lag_23\"] = df_modelo[\"cargo de regulación\"].shift(23)\n",
        "df_modelo[\"lag_24\"] = df_modelo[\"cargo de regulación\"].shift(24)\n",
        "\n",
        "df_modelo[\"Solar_t-1\"] = df_modelo[\"Solar\"].shift(1)\n",
        "df_modelo[\"Solar_t-2\"] = df_modelo[\"Solar\"].shift(2)\n",
        "df_modelo[\"Solar_t-3\"] = df_modelo[\"Solar\"].shift(3)\n",
        "\n",
        "df_modelo[\"media_cargo_por_hora_t-1\"] = df_modelo[\"media_cargo_por_hora\"].shift(1)\n",
        "\n",
        "\n",
        "\n",
        "# Añadir la media histórica por hora\n",
        "df_modelo[\"media_cargo_por_hora\"] = datos_sin_outliers[\"media_cargo_por_hora\"]\n",
        "\n",
        "# Eliminar filas con NaNs generados por los lags\n",
        "df_modelo = df_modelo.dropna()\n",
        "\n",
        "# Variables predictoras y target\n",
        "X = df_modelo[[\"cargo de regulacion_t-1\",\"cargo de regulacion_t-2\", \"cargo de regulacion_t-3\", \"cargo de regulacion_t-4\",\"Hydro\",\n",
        "               \"Solar\", \"media_cargo_por_hora\", \"media_cargo_por_hora_t-1\"]]\n",
        "#X = df_modelo.drop(columns=[\"cargo de regulación\", \"Fecha_Prev\", \"AÑO\"])  # features\n",
        "y = df_modelo[\"cargo de regulación\"]\n",
        "\n",
        "# División temporal: 80% entrenamiento, 20% test\n",
        "split_index = int(len(df_modelo) * 0.8)\n",
        "X_train, X_test = X.iloc[:split_index], X.iloc[split_index:]\n",
        "y_train, y_test = y.iloc[:split_index], y.iloc[split_index:]\n",
        "\n",
        "# Entrenar modelo XGBoost\n",
        "modelo_xgb5 = XGBRegressor(n_estimators=100, learning_rate=0.1, max_depth=6, random_state=42)\n",
        "modelo_xgb5.fit(X_train, y_train)\n",
        "y_pred = modelo_xgb5.predict(X_test)\n",
        "\n",
        "# Evaluación\n",
        "mae5 = mean_absolute_error(y_test, y_pred)\n",
        "rmse5 = np.sqrt(mean_squared_error(y_test, y_pred))\n",
        "\n",
        "# Visualización\n",
        "plt.figure(figsize=(14, 5))\n",
        "plt.plot(y_test.index, y_test, label=\"Observado\", alpha=0.7)\n",
        "plt.plot(y_test.index, y_pred, label=\"Predicción XGBoost (con lags + media)\", color=\"orange\", alpha=0.7)\n",
        "plt.title(\"Predicción del Cargo de Regulación con XGBoost (lags + media horaria)\")\n",
        "plt.xlabel(\"Fecha y hora\")\n",
        "plt.ylabel(\"€\")\n",
        "plt.legend()\n",
        "plt.grid(True)\n",
        "plt.tight_layout()\n",
        "plt.show()\n",
        "\n",
        "mae5, rmse5"
      ]
    },
    {
      "cell_type": "code",
      "execution_count": null,
      "metadata": {
        "colab": {
          "background_save": true
        },
        "id": "Knxwkl4NjXoE"
      },
      "outputs": [],
      "source": [
        "importances = modelo_xgb5.feature_importances_\n",
        "features = X.columns\n",
        "\n",
        "# Ordenar importancias\n",
        "sorted_idx = np.argsort(importances)[::-1]\n",
        "sorted_features = features[sorted_idx]\n",
        "sorted_importances = importances[sorted_idx]\n",
        "\n",
        "# Gráfico\n",
        "plt.figure(figsize=(10, 6))\n",
        "plt.barh(sorted_features, sorted_importances, color=\"steelblue\")\n",
        "plt.xlabel(\"Importancia\")\n",
        "plt.title(\"Importancia de Variables en XGBoost\")\n",
        "plt.gca().invert_yaxis()  # La más importante arriba\n",
        "plt.tight_layout()\n",
        "plt.show()"
      ]
    },
    {
      "cell_type": "code",
      "execution_count": null,
      "metadata": {
        "colab": {
          "background_save": true
        },
        "id": "HXsfy0dHjySy"
      },
      "outputs": [],
      "source": [
        "# Crear una figura combinada con test histórico + semana futura\n",
        "fig, ax = plt.subplots(figsize=(16, 6))\n",
        "\n",
        "# 1. Parte histórica: y_test vs predicción\n",
        "ax.plot(y_test.index, y_test, label=\"Observado\", alpha=0.7)\n",
        "ax.plot(y_test.index, y_pred, label=\"Predicción XGBoost\", color=\"orange\", alpha=0.7)\n",
        "\n",
        "# 2. Parte futura: predicción con intervalo\n",
        "residuos = y_test - y_pred\n",
        "std_error = residuos.std()\n",
        "\n",
        "X_future = X_test.tail(168).copy()\n",
        "y_future_pred = modelo_xgb5.predict(X_future)\n",
        "last_index = y_test.index[-1]\n",
        "\n",
        "# Crear índice extendido para la semana futura\n",
        "future_index = range(last_index + 1, last_index + 1 + 168)\n",
        "\n",
        "# Agregar al gráfico\n",
        "ax.plot(future_index, y_future_pred, label=\"Predicción futura\", color=\"red\")\n",
        "ax.fill_between(future_index,\n",
        "                y_future_pred - 1.96 * std_error,\n",
        "                y_future_pred + 1.96 * std_error,\n",
        "                color=\"red\", alpha=0.2, label=\"IC 95%\")\n",
        "\n",
        "# Etiquetas y leyenda\n",
        "ax.set_title(\"Predicción del Cargo de Regulación: Observado, Actual y Futura\")\n",
        "ax.set_xlabel(\"Índice de tiempo\")\n",
        "ax.set_ylabel(\"€\")\n",
        "ax.grid(True)\n",
        "ax.legend()\n",
        "plt.tight_layout()\n",
        "plt.show()\n"
      ]
    },
    {
      "cell_type": "code",
      "execution_count": null,
      "metadata": {
        "colab": {
          "background_save": true
        },
        "id": "7jlI_67P52n1"
      },
      "outputs": [],
      "source": [
        "# Añadir lags más útiles según el análisis\n",
        "\n",
        "df_modelo5=df_real.copy()\n",
        "\n",
        "df_modelo5[\"cargo de regulacion_t-1\"] = df_modelo5[\"cargo de regulación\"].shift(-1)\n",
        "df_modelo5[\"cargo de regulacion_t-2\"] = df_modelo5[\"cargo de regulación\"].shift(2)\n",
        "df_modelo5[\"cargo de regulacion_t-3\"] = df_modelo5[\"cargo de regulación\"].shift(3)\n",
        "df_modelo5[\"cargo de regulacion_t-4\"] = df_modelo5[\"cargo de regulación\"].shift(4)\n",
        "\n",
        "df_modelo5[\"lag_23\"] = df_modelo5[\"cargo de regulación\"].shift(23)\n",
        "df_modelo5[\"lag_24\"] = df_modelo5[\"cargo de regulación\"].shift(24)\n",
        "\n",
        "df_modelo5[\"Solar_t-1\"] = df_modelo5[\"Solar\"].shift(1)\n",
        "df_modelo5[\"Solar_t-2\"] = df_modelo5[\"Solar\"].shift(2)\n",
        "df_modelo5[\"Solar_t-3\"] = df_modelo5[\"Solar\"].shift(3)\n",
        "\n",
        "df_modelo5[\"media_cargo_por_hora_t-1\"] = df_modelo5[\"media_cargo_por_hora\"].shift(1)\n",
        "\n",
        "# 5. Eliminar nulos por lags\n",
        "df_modelo5 = df_modelo5.dropna()\n",
        "\n",
        "# Variables predictoras y target\n",
        "columnas_modelo = [\"cargo de regulacion_t-1\",\"cargo de regulacion_t-2\", \"cargo de regulacion_t-3\", \"cargo de regulacion_t-4\",\"Hydro\",\n",
        "               \"Solar\", \"media_cargo_por_hora\", \"media_cargo_por_hora_t-1\"]\n",
        "X_real = df_modelo5[columnas_modelo]\n",
        "y_real = df_modelo5[\"cargo de regulación\"]\n",
        "\n",
        "# Predicción y evaluación\n",
        "y_pred_real = modelo_xgb5.predict(X_real)\n",
        "mae_real = mean_absolute_error(y_real, y_pred_real)\n",
        "rmse_real = np.sqrt(mean_squared_error(y_real, y_pred_real))\n",
        "\n",
        "mae_real, rmse_real\n",
        "\n",
        "\n",
        "\n",
        "# Crear series alineadas\n",
        "min_len = min(len(y_real), len(y_pred_real), len(y_future_pred))\n",
        "fechas = df_modelo5.index[-min_len:]\n",
        "\n",
        "y_real_aligned = pd.Series(y_real[-min_len:], index=fechas)\n",
        "y_pred_real_aligned = pd.Series(y_pred_real[-min_len:], index=fechas)\n",
        "y_future_pred_aligned = pd.Series(y_future_pred[-min_len:], index=fechas)\n",
        "\n",
        "\n",
        "# Graficar\n",
        "plt.figure(figsize=(15, 6))\n",
        "plt.plot(y_real_aligned, label=\"Valor real (BRP)\", linewidth=2)\n",
        "plt.plot(y_future_pred_aligned, label=\"Predicción original (con datos históricos)\", linestyle=\"--\")\n",
        "plt.plot(y_pred_real_aligned, label=\"Predicción con datos reales\", linestyle=\"-\")\n",
        "\n",
        "# Estética\n",
        "plt.xlabel(\"Fecha y hora\")\n",
        "plt.ylabel(\"Cargo de regulación (€)\")\n",
        "plt.title(\"Comparación de predicciones vs valores reales (15–21 marzo 2025)\")\n",
        "plt.legend()\n",
        "plt.grid(True)\n",
        "plt.tight_layout()\n",
        "plt.show()\n",
        "\n",
        "\n",
        "# Calcular los totales para cada serie\n",
        "total_pred_real = np.sum(y_pred_real)\n",
        "total_pred_original = np.sum(y_future_pred)\n",
        "\n",
        "# Calcular diferencias y errores relativos\n",
        "diferencia_real_pred = total_pred_real - total_real\n",
        "error_pct_real_pred = (diferencia_real_pred / total_real) * 100\n",
        "\n",
        "diferencia_real_orig = total_pred_original - total_real\n",
        "error_pct_real_orig = (diferencia_real_orig / total_real) * 100\n",
        "\n",
        "# Crear DataFrame resumen\n",
        "df_totales = pd.DataFrame({\n",
        "    \"Categoría\": [\n",
        "        \"Valor real (BRP)\",\n",
        "        \"Predicción con datos reales\",\n",
        "        \"Predicción original histórica\"\n",
        "    ],\n",
        "    \"Total (€)\": [\n",
        "        round(total_real, 2),\n",
        "        round(total_pred_real, 2),\n",
        "        round(total_pred_original, 2)\n",
        "    ],\n",
        "    \"    Diferencia con real (€)\": [\n",
        "        \"-\",\n",
        "        f\"{diferencia_real_pred:+.2f}\",\n",
        "        f\"{diferencia_real_orig:+.2f}\"\n",
        "    ],\n",
        "    \"    Error relativo (%)\": [\n",
        "        \"-\",\n",
        "        f\"{error_pct_real_pred:+.2f}%\",\n",
        "        f\"{error_pct_real_orig:+.2f}%\"\n",
        "    ]\n",
        "})\n",
        "\n",
        "# Mostrar la tabla\n",
        "print(df_totales.to_string(index=False))\n"
      ]
    },
    {
      "cell_type": "code",
      "execution_count": null,
      "metadata": {
        "colab": {
          "background_save": true
        },
        "id": "YrGFC1czPtSW"
      },
      "outputs": [],
      "source": [
        "abs_error_verde = abs(y_pred_real_aligned - y_real_aligned)\n",
        "abs_error_naranja = abs(y_future_pred_aligned - y_real_aligned)\n",
        "\n",
        "print(\"MAE con datos reales:\", abs_error_verde.mean())\n",
        "print(\"MAE predicción histórica:\", abs_error_naranja.mean())\n"
      ]
    },
    {
      "cell_type": "markdown",
      "metadata": {
        "id": "y_jglhaha3J6"
      },
      "source": [
        "#Random Forest Regressor"
      ]
    },
    {
      "cell_type": "markdown",
      "metadata": {
        "id": "HRFPCO1-sU9K"
      },
      "source": [
        "##MODELO1RF"
      ]
    },
    {
      "cell_type": "code",
      "execution_count": null,
      "metadata": {
        "colab": {
          "background_save": true
        },
        "id": "h8tneNgQbL7f"
      },
      "outputs": [],
      "source": [
        "# Crear DataFrame base\n",
        "df_modelo = datos_sin_outliers.copy()\n",
        "\n",
        "# Variables predictoras y target\n",
        "X = df_modelo.drop(columns=[\"cargo de regulación\", \"Fecha_Prev\"])  # features\n",
        "y = df_modelo[\"cargo de regulación\"]\n",
        "\n",
        "# División temporal: 80% entrenamiento, 20% test\n",
        "split_index = int(len(df_modelo) * 0.8)\n",
        "X_train, X_test = X.iloc[:split_index], X.iloc[split_index:]\n",
        "y_train, y_test = y.iloc[:split_index], y.iloc[split_index:]\n",
        "\n",
        "# Entrenar modelo RF\n",
        "modelo_rf = RandomForestRegressor(\n",
        "    n_estimators=100,\n",
        "    max_depth=8,\n",
        "    random_state=42\n",
        ")\n",
        "modelo_rf.fit(X_train, y_train)\n",
        "y_pred = modelo_rf.predict(X_test)\n",
        "\n",
        "# Evaluación\n",
        "mae6 = mean_absolute_error(y_test, y_pred)\n",
        "rmse6 = np.sqrt(mean_squared_error(y_test, y_pred))\n",
        "\n",
        "# Visualización\n",
        "plt.figure(figsize=(14, 5))\n",
        "plt.plot(y_test.index, y_test, label=\"Observado\", alpha=0.7)\n",
        "plt.plot(y_test.index, y_pred, label=\"Predicción XGBoost (con lags + media)\", color=\"orange\", alpha=0.7)\n",
        "plt.title(\"Predicción del Cargo de Regulación con XGBoost (lags + media horaria)\")\n",
        "plt.xlabel(\"Fecha y hora\")\n",
        "plt.ylabel(\"€\")\n",
        "plt.legend()\n",
        "plt.grid(True)\n",
        "plt.tight_layout()\n",
        "plt.show()\n",
        "\n",
        "mae6, rmse6\n"
      ]
    },
    {
      "cell_type": "code",
      "execution_count": null,
      "metadata": {
        "colab": {
          "background_save": true
        },
        "id": "8uT8AC8er_tz"
      },
      "outputs": [],
      "source": [
        "# Extraer la importancia de cada variable\n",
        "importancias = modelo_rf.feature_importances_\n",
        "nombres_columnas = X_train.columns\n",
        "\n",
        "# Crear DataFrame con resultados\n",
        "df_importancia = pd.DataFrame({\n",
        "    'Variable': nombres_columnas,\n",
        "    'Importancia': importancias\n",
        "}).sort_values(by=\"Importancia\", ascending=False)\n",
        "\n",
        "# Visualización\n",
        "plt.figure(figsize=(10, 8))\n",
        "sns.barplot(x=\"Importancia\", y=\"Variable\", data=df_importancia.head(20), palette=\"viridis\")\n",
        "plt.title(\"Importancia de las Variables en el Modelo Random Forest\")\n",
        "plt.xlabel(\"Importancia relativa\")\n",
        "plt.ylabel(\"Variable\")\n",
        "plt.tight_layout()\n",
        "plt.grid(True)\n",
        "plt.show()\n"
      ]
    },
    {
      "cell_type": "code",
      "execution_count": null,
      "metadata": {
        "colab": {
          "background_save": true
        },
        "id": "WVwt4eqjsF67"
      },
      "outputs": [],
      "source": [
        "# Crear una figura combinada con test histórico + semana futura\n",
        "fig, ax = plt.subplots(figsize=(16, 6))\n",
        "\n",
        "# 1. Parte histórica: y_test vs predicción\n",
        "ax.plot(y_test.index, y_test, label=\"Observado\", alpha=0.7)\n",
        "ax.plot(y_test.index, y_pred, label=\"Predicción XGBoost\", color=\"orange\", alpha=0.7)\n",
        "\n",
        "# 2. Parte futura: predicción con intervalo\n",
        "residuos = y_test - y_pred\n",
        "std_error = residuos.std()\n",
        "\n",
        "X_future = X_test.tail(168).copy()\n",
        "y_future_pred = modelo_rf.predict(X_future)\n",
        "last_index = y_test.index[-1]\n",
        "\n",
        "# Crear índice extendido para la semana futura\n",
        "future_index = range(last_index + 1, last_index + 1 + 168)\n",
        "\n",
        "# Agregar al gráfico\n",
        "ax.plot(future_index, y_future_pred, label=\"Predicción futura\", color=\"red\")\n",
        "ax.fill_between(future_index,\n",
        "                y_future_pred - 1.96 * std_error,\n",
        "                y_future_pred + 1.96 * std_error,\n",
        "                color=\"red\", alpha=0.2, label=\"IC 95%\")\n",
        "\n",
        "# Etiquetas y leyenda\n",
        "ax.set_title(\"Predicción del Cargo de Regulación: Observado, Actual y Futura\")\n",
        "ax.set_xlabel(\"Índice de tiempo\")\n",
        "ax.set_ylabel(\"€\")\n",
        "ax.grid(True)\n",
        "ax.legend()\n",
        "plt.tight_layout()\n",
        "plt.show()\n"
      ]
    },
    {
      "cell_type": "code",
      "execution_count": null,
      "metadata": {
        "colab": {
          "background_save": true
        },
        "id": "QXnRC9tysm9u",
        "outputId": "22519705-0307-4106-a103-a85cab9a2bac"
      },
      "outputs": [
        {
          "name": "stdout",
          "output_type": "stream",
          "text": [
            "Mejores parámetros: {'max_depth': 8, 'n_estimators': 150}\n"
          ]
        }
      ],
      "source": [
        "from sklearn.model_selection import GridSearchCV\n",
        "from sklearn.ensemble import RandomForestRegressor\n",
        "\n",
        "param_grid = {\n",
        "    'n_estimators': [100, 150, 200],\n",
        "    'max_depth': [8, 10, 14]\n",
        "}\n",
        "\n",
        "grid_search = GridSearchCV(\n",
        "    estimator=RandomForestRegressor(random_state=42),\n",
        "    param_grid=param_grid,\n",
        "    cv=3,\n",
        "    scoring='neg_mean_absolute_error',\n",
        "    n_jobs=-1\n",
        ")\n",
        "\n",
        "grid_search.fit(X_train, y_train)\n",
        "\n",
        "print(\"Mejores parámetros:\", grid_search.best_params_)\n"
      ]
    },
    {
      "cell_type": "markdown",
      "metadata": {
        "id": "wU70w0IesQ9_"
      },
      "source": [
        "##MODELO2RF"
      ]
    },
    {
      "cell_type": "code",
      "execution_count": null,
      "metadata": {
        "colab": {
          "background_save": true
        },
        "id": "DPAG1upNsuz0",
        "outputId": "17d32530-87ee-4a2f-d4d1-c35e4c6c89b7"
      },
      "outputs": [
        {
          "data": {
            "image/png": "[encoded data removed]",
            "text/plain": [
              "<Figure size 1400x500 with 1 Axes>"
            ]
          },
          "metadata": {},
          "output_type": "display_data"
        },
        {
          "data": {
            "text/plain": [
              "(46.015265550480244, np.float64(138.41997065016693))"
            ]
          },
          "execution_count": 323,
          "metadata": {},
          "output_type": "execute_result"
        }
      ],
      "source": [
        "# Crear DataFrame base\n",
        "df_modelo = df.copy()\n",
        "\n",
        "# Añadir lags más útiles según el análisis\n",
        "df_modelo[\"Solar_t\"] = df_modelo[\"Solar\"]\n",
        "df_modelo[\"Solar_t-1\"] = df_modelo[\"Solar\"].shift(1)\n",
        "df_modelo[\"Solar_t-2\"] = df_modelo[\"Solar\"].shift(2)\n",
        "df_modelo[\"Wind_t\"] = df_modelo[\"Wind\"]\n",
        "df_modelo[\"Wind_t-1\"] = df_modelo[\"Wind\"].shift(1)\n",
        "df_modelo[\"Imports_t\"] = df_modelo[\"Imports\"]\n",
        "df_modelo[\"Imports_t-1\"] = df_modelo[\"Imports\"].shift(1)\n",
        "df_modelo[\"Hydro_t-1\"] = df_modelo[\"Hydro\"].shift(1)\n",
        "df_modelo[\"pool\"] = df_modelo[\"pool\"]\n",
        "df_modelo[\"cargo de regulacion_t-1\"] = df_modelo[\"cargo de regulación\"].shift(1)\n",
        "\n",
        "\n",
        "# Añadir la media histórica por hora\n",
        "df_modelo[\"media_cargo_por_hora\"] = df[\"media_cargo_por_hora\"]\n",
        "\n",
        "# Eliminar filas con NaNs generados por los lags\n",
        "df_modelo = df_modelo.dropna()\n",
        "\n",
        "# Variables predictoras y target\n",
        "X = df_modelo[[\"Solar_t\", \"Solar_t-1\",\"Solar_t-2\", \"Wind_t\",\"Wind_t-1\",\"Imports_t\", \"Imports_t-1\", \"pool\",\n",
        "               \"Hydro_t-1\", \"Hydro\", \"cargo de regulacion_t-1\", \"media_cargo_por_hora\", \"desviacion total\"]]\n",
        "#X = df_modelo.drop(columns=[\"cargo de regulación\", \"Fecha_Prev\", \"AÑO\"])  # features\n",
        "y = df_modelo[\"cargo de regulación\"]\n",
        "\n",
        "# División temporal: 80% entrenamiento, 20% test\n",
        "split_index = int(len(df_modelo) * 0.8)\n",
        "X_train, X_test = X.iloc[:split_index], X.iloc[split_index:]\n",
        "y_train, y_test = y.iloc[:split_index], y.iloc[split_index:]\n",
        "\n",
        "# Entrenar modelo RF\n",
        "modelo_rf2 = RandomForestRegressor(\n",
        "    n_estimators=100,\n",
        "    max_depth=8,\n",
        "    random_state=42\n",
        ")\n",
        "modelo_rf2.fit(X_train, y_train)\n",
        "y_pred = modelo_rf2.predict(X_test)\n",
        "\n",
        "# Evaluación\n",
        "mae7 = mean_absolute_error(y_test, y_pred)\n",
        "rmse7 = np.sqrt(mean_squared_error(y_test, y_pred))\n",
        "\n",
        "# Visualización\n",
        "plt.figure(figsize=(14, 5))\n",
        "plt.plot(y_test.index, y_test, label=\"Observado\", alpha=0.7)\n",
        "plt.plot(y_test.index, y_pred, label=\"Predicción XGBoost (con lags + media)\", color=\"orange\", alpha=0.7)\n",
        "plt.title(\"Predicción del Cargo de Regulación con XGBoost (lags + media horaria)\")\n",
        "plt.xlabel(\"Fecha y hora\")\n",
        "plt.ylabel(\"€\")\n",
        "plt.legend()\n",
        "plt.grid(True)\n",
        "plt.tight_layout()\n",
        "plt.show()\n",
        "\n",
        "mae7, rmse7\n"
      ]
    },
    {
      "cell_type": "code",
      "execution_count": null,
      "metadata": {
        "colab": {
          "background_save": true
        },
        "id": "BLdz5Or_t_M9",
        "outputId": "a689b56a-c412-4d91-f84c-23221d75d04a"
      },
      "outputs": [
        {
          "name": "stderr",
          "output_type": "stream",
          "text": [
            "<ipython-input-324-df74631d8443>:13: FutureWarning:\n",
            "\n",
            "\n",
            "\n",
            "Passing `palette` without assigning `hue` is deprecated and will be removed in v0.14.0. Assign the `y` variable to `hue` and set `legend=False` for the same effect.\n",
            "\n",
            "\n"
          ]
        },
        {
          "data": {
            "image/png": "[encoded data removed]",
            "text/plain": [
              "<Figure size 1000x800 with 1 Axes>"
            ]
          },
          "metadata": {},
          "output_type": "display_data"
        }
      ],
      "source": [
        "# Extraer la importancia de cada variable\n",
        "importancias = modelo_rf2.feature_importances_\n",
        "nombres_columnas = X_train.columns\n",
        "\n",
        "# Crear DataFrame con resultados\n",
        "df_importancia = pd.DataFrame({\n",
        "    'Variable': nombres_columnas,\n",
        "    'Importancia': importancias\n",
        "}).sort_values(by=\"Importancia\", ascending=False)\n",
        "\n",
        "# Visualización\n",
        "plt.figure(figsize=(10, 8))\n",
        "sns.barplot(x=\"Importancia\", y=\"Variable\", data=df_importancia.head(20), palette=\"viridis\")\n",
        "plt.title(\"Importancia de las Variables en el Modelo Random Forest\")\n",
        "plt.xlabel(\"Importancia relativa\")\n",
        "plt.ylabel(\"Variable\")\n",
        "plt.tight_layout()\n",
        "plt.grid(True)\n",
        "plt.show()\n"
      ]
    },
    {
      "cell_type": "code",
      "execution_count": null,
      "metadata": {
        "colab": {
          "background_save": true
        },
        "id": "qZnfLrb2uLJL",
        "outputId": "4c4098d7-1b63-43bd-d48f-1cd8ea072749"
      },
      "outputs": [
        {
          "ename": "ValueError",
          "evalue": "The feature names should match those that were passed during fit.\nFeature names unseen at fit time:\n- Hydro_t-1\n- Imports_t\n- Imports_t-1\n- Solar_t\n- Solar_t-1\n- ...\nFeature names seen at fit time, yet now missing:\n- AÑO\n- Battery Consumption\n- Battery Injection\n- Biomass\n- Consumption\n- ...\n",
          "output_type": "error",
          "traceback": [
            "\u001b[0;31m---------------------------------------------------------------------------\u001b[0m",
            "\u001b[0;31mValueError\u001b[0m                                Traceback (most recent call last)",
            "\u001b[0;32m<ipython-input-325-19a10e639be9>\u001b[0m in \u001b[0;36m<cell line: 0>\u001b[0;34m()\u001b[0m\n\u001b[1;32m     11\u001b[0m \u001b[0;34m\u001b[0m\u001b[0m\n\u001b[1;32m     12\u001b[0m \u001b[0mX_future\u001b[0m \u001b[0;34m=\u001b[0m \u001b[0mX_test\u001b[0m\u001b[0;34m.\u001b[0m\u001b[0mtail\u001b[0m\u001b[0;34m(\u001b[0m\u001b[0;36m168\u001b[0m\u001b[0;34m)\u001b[0m\u001b[0;34m.\u001b[0m\u001b[0mcopy\u001b[0m\u001b[0;34m(\u001b[0m\u001b[0;34m)\u001b[0m\u001b[0;34m\u001b[0m\u001b[0;34m\u001b[0m\u001b[0m\n\u001b[0;32m---> 13\u001b[0;31m \u001b[0my_future_pred\u001b[0m \u001b[0;34m=\u001b[0m \u001b[0mmodelo_rf\u001b[0m\u001b[0;34m.\u001b[0m\u001b[0mpredict\u001b[0m\u001b[0;34m(\u001b[0m\u001b[0mX_future\u001b[0m\u001b[0;34m)\u001b[0m\u001b[0;34m\u001b[0m\u001b[0;34m\u001b[0m\u001b[0m\n\u001b[0m\u001b[1;32m     14\u001b[0m \u001b[0mlast_index\u001b[0m \u001b[0;34m=\u001b[0m \u001b[0my_test\u001b[0m\u001b[0;34m.\u001b[0m\u001b[0mindex\u001b[0m\u001b[0;34m[\u001b[0m\u001b[0;34m-\u001b[0m\u001b[0;36m1\u001b[0m\u001b[0;34m]\u001b[0m\u001b[0;34m\u001b[0m\u001b[0;34m\u001b[0m\u001b[0m\n\u001b[1;32m     15\u001b[0m \u001b[0;34m\u001b[0m\u001b[0m\n",
            "\u001b[0;32m/usr/local/lib/python3.11/dist-packages/sklearn/ensemble/_forest.py\u001b[0m in \u001b[0;36mpredict\u001b[0;34m(self, X)\u001b[0m\n\u001b[1;32m   1064\u001b[0m         \u001b[0mcheck_is_fitted\u001b[0m\u001b[0;34m(\u001b[0m\u001b[0mself\u001b[0m\u001b[0;34m)\u001b[0m\u001b[0;34m\u001b[0m\u001b[0;34m\u001b[0m\u001b[0m\n\u001b[1;32m   1065\u001b[0m         \u001b[0;31m# Check data\u001b[0m\u001b[0;34m\u001b[0m\u001b[0;34m\u001b[0m\u001b[0m\n\u001b[0;32m-> 1066\u001b[0;31m         \u001b[0mX\u001b[0m \u001b[0;34m=\u001b[0m \u001b[0mself\u001b[0m\u001b[0;34m.\u001b[0m\u001b[0m_validate_X_predict\u001b[0m\u001b[0;34m(\u001b[0m\u001b[0mX\u001b[0m\u001b[0;34m)\u001b[0m\u001b[0;34m\u001b[0m\u001b[0;34m\u001b[0m\u001b[0m\n\u001b[0m\u001b[1;32m   1067\u001b[0m \u001b[0;34m\u001b[0m\u001b[0m\n\u001b[1;32m   1068\u001b[0m         \u001b[0;31m# Assign chunk of trees to jobs\u001b[0m\u001b[0;34m\u001b[0m\u001b[0;34m\u001b[0m\u001b[0m\n",
            "\u001b[0;32m/usr/local/lib/python3.11/dist-packages/sklearn/ensemble/_forest.py\u001b[0m in \u001b[0;36m_validate_X_predict\u001b[0;34m(self, X)\u001b[0m\n\u001b[1;32m    636\u001b[0m             \u001b[0mensure_all_finite\u001b[0m \u001b[0;34m=\u001b[0m \u001b[0;32mTrue\u001b[0m\u001b[0;34m\u001b[0m\u001b[0;34m\u001b[0m\u001b[0m\n\u001b[1;32m    637\u001b[0m \u001b[0;34m\u001b[0m\u001b[0m\n\u001b[0;32m--> 638\u001b[0;31m         X = validate_data(\n\u001b[0m\u001b[1;32m    639\u001b[0m             \u001b[0mself\u001b[0m\u001b[0;34m,\u001b[0m\u001b[0;34m\u001b[0m\u001b[0;34m\u001b[0m\u001b[0m\n\u001b[1;32m    640\u001b[0m             \u001b[0mX\u001b[0m\u001b[0;34m,\u001b[0m\u001b[0;34m\u001b[0m\u001b[0;34m\u001b[0m\u001b[0m\n",
            "\u001b[0;32m/usr/local/lib/python3.11/dist-packages/sklearn/utils/validation.py\u001b[0m in \u001b[0;36mvalidate_data\u001b[0;34m(_estimator, X, y, reset, validate_separately, skip_check_array, **check_params)\u001b[0m\n\u001b[1;32m   2917\u001b[0m         \u001b[0mvalidated\u001b[0m\u001b[0;34m.\u001b[0m\u001b[0;34m\u001b[0m\u001b[0;34m\u001b[0m\u001b[0m\n\u001b[1;32m   2918\u001b[0m     \"\"\"\n\u001b[0;32m-> 2919\u001b[0;31m     \u001b[0m_check_feature_names\u001b[0m\u001b[0;34m(\u001b[0m\u001b[0m_estimator\u001b[0m\u001b[0;34m,\u001b[0m \u001b[0mX\u001b[0m\u001b[0;34m,\u001b[0m \u001b[0mreset\u001b[0m\u001b[0;34m=\u001b[0m\u001b[0mreset\u001b[0m\u001b[0;34m)\u001b[0m\u001b[0;34m\u001b[0m\u001b[0;34m\u001b[0m\u001b[0m\n\u001b[0m\u001b[1;32m   2920\u001b[0m     \u001b[0mtags\u001b[0m \u001b[0;34m=\u001b[0m \u001b[0mget_tags\u001b[0m\u001b[0;34m(\u001b[0m\u001b[0m_estimator\u001b[0m\u001b[0;34m)\u001b[0m\u001b[0;34m\u001b[0m\u001b[0;34m\u001b[0m\u001b[0m\n\u001b[1;32m   2921\u001b[0m     \u001b[0;32mif\u001b[0m \u001b[0my\u001b[0m \u001b[0;32mis\u001b[0m \u001b[0;32mNone\u001b[0m \u001b[0;32mand\u001b[0m \u001b[0mtags\u001b[0m\u001b[0;34m.\u001b[0m\u001b[0mtarget_tags\u001b[0m\u001b[0;34m.\u001b[0m\u001b[0mrequired\u001b[0m\u001b[0;34m:\u001b[0m\u001b[0;34m\u001b[0m\u001b[0;34m\u001b[0m\u001b[0m\n",
            "\u001b[0;32m/usr/local/lib/python3.11/dist-packages/sklearn/utils/validation.py\u001b[0m in \u001b[0;36m_check_feature_names\u001b[0;34m(estimator, X, reset)\u001b[0m\n\u001b[1;32m   2775\u001b[0m             \u001b[0mmessage\u001b[0m \u001b[0;34m+=\u001b[0m \u001b[0;34m\"Feature names must be in the same order as they were in fit.\\n\"\u001b[0m\u001b[0;34m\u001b[0m\u001b[0;34m\u001b[0m\u001b[0m\n\u001b[1;32m   2776\u001b[0m \u001b[0;34m\u001b[0m\u001b[0m\n\u001b[0;32m-> 2777\u001b[0;31m         \u001b[0;32mraise\u001b[0m \u001b[0mValueError\u001b[0m\u001b[0;34m(\u001b[0m\u001b[0mmessage\u001b[0m\u001b[0;34m)\u001b[0m\u001b[0;34m\u001b[0m\u001b[0;34m\u001b[0m\u001b[0m\n\u001b[0m\u001b[1;32m   2778\u001b[0m \u001b[0;34m\u001b[0m\u001b[0m\n\u001b[1;32m   2779\u001b[0m \u001b[0;34m\u001b[0m\u001b[0m\n",
            "\u001b[0;31mValueError\u001b[0m: The feature names should match those that were passed during fit.\nFeature names unseen at fit time:\n- Hydro_t-1\n- Imports_t\n- Imports_t-1\n- Solar_t\n- Solar_t-1\n- ...\nFeature names seen at fit time, yet now missing:\n- AÑO\n- Battery Consumption\n- Battery Injection\n- Biomass\n- Consumption\n- ...\n"
          ]
        },
        {
          "data": {
            "image/png": "[encoded data removed]",
            "text/plain": [
              "<Figure size 1600x600 with 1 Axes>"
            ]
          },
          "metadata": {},
          "output_type": "display_data"
        }
      ],
      "source": [
        "# Crear una figura combinada con test histórico + semana futura\n",
        "fig, ax = plt.subplots(figsize=(16, 6))\n",
        "\n",
        "# 1. Parte histórica: y_test vs predicción\n",
        "ax.plot(y_test.index, y_test, label=\"Observado\", alpha=0.7)\n",
        "ax.plot(y_test.index, y_pred, label=\"Predicción XGBoost\", color=\"orange\", alpha=0.7)\n",
        "\n",
        "# 2. Parte futura: predicción con intervalo\n",
        "residuos = y_test - y_pred\n",
        "std_error = residuos.std()\n",
        "\n",
        "X_future = X_test.tail(168).copy()\n",
        "y_future_pred = modelo_rf.predict(X_future)\n",
        "last_index = y_test.index[-1]\n",
        "\n",
        "# Crear índice extendido para la semana futura\n",
        "future_index = range(last_index + 1, last_index + 1 + 168)\n",
        "\n",
        "# Agregar al gráfico\n",
        "ax.plot(future_index, y_future_pred, label=\"Predicción futura\", color=\"red\")\n",
        "ax.fill_between(future_index,\n",
        "                y_future_pred - 1.96 * std_error,\n",
        "                y_future_pred + 1.96 * std_error,\n",
        "                color=\"red\", alpha=0.2, label=\"IC 95%\")\n",
        "\n",
        "# Etiquetas y leyenda\n",
        "ax.set_title(\"Predicción del Cargo de Regulación: Observado, Actual y Futura\")\n",
        "ax.set_xlabel(\"Índice de tiempo\")\n",
        "ax.set_ylabel(\"€\")\n",
        "ax.grid(True)\n",
        "ax.legend()\n",
        "plt.tight_layout()\n",
        "plt.show()"
      ]
    },
    {
      "cell_type": "markdown",
      "metadata": {
        "id": "mN7oxJupubGA"
      },
      "source": [
        "##MODELO3RF"
      ]
    },
    {
      "cell_type": "code",
      "execution_count": null,
      "metadata": {
        "colab": {
          "background_save": true
        },
        "id": "ksJFxVKSudM4"
      },
      "outputs": [],
      "source": [
        "# Crear DataFrame base\n",
        "df_modelo = df.copy()\n",
        "\n",
        "# Añadir lags más útiles según el análisis\n",
        "df_modelo[\"Other Thermal_t-1\"] = df_modelo[\"Other Thermal\"].shift(1)\n",
        "df_modelo[\"Natural Gas - Cogeneration_t-1\"] = df_modelo[\"Natural Gas - Cogeneration\"].shift(1)\n",
        "df_modelo[\"Natural Gas - Combined Cycle_t-1\"] = df_modelo[\"Natural Gas - Combined Cycle\"].shift(1)\n",
        "df_modelo[\"Hydro_t-1\"] = df_modelo[\"Hydro\"].shift(1)\n",
        "df_modelo[\"cargo de regulacion_t-1\"] = df_modelo[\"cargo de regulación\"].shift(1)\n",
        "df_modelo[\"Exports_t-1\"] = df_modelo[\"Exports\"].shift(1)\n",
        "df_modelo[\"Pumping_t-1\"] = df_modelo[\"Pumping\"].shift(1)\n",
        "\n",
        "\n",
        "# Añadir la media histórica por hora\n",
        "df_modelo[\"media_cargo_por_hora\"] = df[\"media_cargo_por_hora\"]\n",
        "\n",
        "# Eliminar filas con NaNs generados por los lags\n",
        "df_modelo = df_modelo.dropna()\n",
        "\n",
        "# Variables predictoras y target\n",
        "X = df_modelo[[\"Other Thermal\", \"Other Thermal_t-1\",\"Exports\",\"Exports_t-1\", \"Natural Gas - Cogeneration\",\"Natural Gas - Cogeneration_t-1\",\n",
        "               \"Natural Gas - Combined Cycle\", \"Natural Gas - Combined Cycle_t-1\", \"pool\", \"Hydro_t-1\", \"Hydro\", \"cargo de regulacion_t-1\",\n",
        "               \"media_cargo_por_hora\", \"Pumping\"]]\n",
        "#X = df_modelo.drop(columns=[\"cargo de regulación\", \"Fecha_Prev\", \"AÑO\"])  # features\n",
        "y = df_modelo[\"cargo de regulación\"]\n",
        "\n",
        "# División temporal: 80% entrenamiento, 20% test\n",
        "split_index = int(len(df_modelo) * 0.8)\n",
        "X_train, X_test = X.iloc[:split_index], X.iloc[split_index:]\n",
        "y_train, y_test = y.iloc[:split_index], y.iloc[split_index:]\n",
        "\n",
        "# Entrenar modelo RF\n",
        "modelo_rf3 = RandomForestRegressor(\n",
        "    n_estimators=100,\n",
        "    max_depth=8,\n",
        "    random_state=42\n",
        ")\n",
        "modelo_rf3.fit(X_train, y_train)\n",
        "y_pred = modelo_rf3.predict(X_test)\n",
        "\n",
        "# Evaluación\n",
        "mae8 = mean_absolute_error(y_test, y_pred)\n",
        "rmse8 = np.sqrt(mean_squared_error(y_test, y_pred))\n",
        "\n",
        "# Visualización\n",
        "plt.figure(figsize=(14, 5))\n",
        "plt.plot(y_test.index, y_test, label=\"Observado\", alpha=0.7)\n",
        "plt.plot(y_test.index, y_pred, label=\"Predicción XGBoost (con lags + media)\", color=\"orange\", alpha=0.7)\n",
        "plt.title(\"Predicción del Cargo de Regulación con XGBoost (lags + media horaria)\")\n",
        "plt.xlabel(\"Fecha y hora\")\n",
        "plt.ylabel(\"€\")\n",
        "plt.legend()\n",
        "plt.grid(True)\n",
        "plt.tight_layout()\n",
        "plt.show()\n",
        "\n",
        "mae8, rmse8\n"
      ]
    },
    {
      "cell_type": "code",
      "execution_count": null,
      "metadata": {
        "colab": {
          "background_save": true
        },
        "id": "FSmdjPiCu3iR"
      },
      "outputs": [],
      "source": [
        "# Extraer la importancia de cada variable\n",
        "importancias = modelo_rf3.feature_importances_\n",
        "nombres_columnas = X_train.columns\n",
        "\n",
        "# Crear DataFrame con resultados\n",
        "df_importancia = pd.DataFrame({\n",
        "    'Variable': nombres_columnas,\n",
        "    'Importancia': importancias\n",
        "}).sort_values(by=\"Importancia\", ascending=False)\n",
        "\n",
        "# Visualización\n",
        "plt.figure(figsize=(10, 8))\n",
        "sns.barplot(x=\"Importancia\", y=\"Variable\", data=df_importancia.head(20), palette=\"viridis\")\n",
        "plt.title(\"Importancia de las Variables en el Modelo Random Forest\")\n",
        "plt.xlabel(\"Importancia relativa\")\n",
        "plt.ylabel(\"Variable\")\n",
        "plt.tight_layout()\n",
        "plt.grid(True)\n",
        "plt.show()\n"
      ]
    },
    {
      "cell_type": "code",
      "execution_count": null,
      "metadata": {
        "colab": {
          "background_save": true
        },
        "id": "vvu5Jx-CvAXu"
      },
      "outputs": [],
      "source": [
        "# Crear una figura combinada con test histórico + semana futura\n",
        "fig, ax = plt.subplots(figsize=(16, 6))\n",
        "\n",
        "# 1. Parte histórica: y_test vs predicción\n",
        "ax.plot(y_test.index, y_test, label=\"Observado\", alpha=0.7)\n",
        "ax.plot(y_test.index, y_pred, label=\"Predicción XGBoost\", color=\"orange\", alpha=0.7)\n",
        "\n",
        "# 2. Parte futura: predicción con intervalo\n",
        "residuos = y_test - y_pred\n",
        "std_error = residuos.std()\n",
        "\n",
        "X_future = X_test.tail(168).copy()\n",
        "y_future_pred = modelo_rf3.predict(X_future)\n",
        "last_index = y_test.index[-1]\n",
        "\n",
        "# Crear índice extendido para la semana futura\n",
        "future_index = range(last_index + 1, last_index + 1 + 168)\n",
        "\n",
        "# Agregar al gráfico\n",
        "ax.plot(future_index, y_future_pred, label=\"Predicción futura\", color=\"red\")\n",
        "ax.fill_between(future_index,\n",
        "                y_future_pred - 1.96 * std_error,\n",
        "                y_future_pred + 1.96 * std_error,\n",
        "                color=\"red\", alpha=0.2, label=\"IC 95%\")\n",
        "\n",
        "# Etiquetas y leyenda\n",
        "ax.set_title(\"Predicción del Cargo de Regulación: Observado, Actual y Futura\")\n",
        "ax.set_xlabel(\"Índice de tiempo\")\n",
        "ax.set_ylabel(\"€\")\n",
        "ax.grid(True)\n",
        "ax.legend()\n",
        "plt.tight_layout()\n",
        "plt.show()"
      ]
    },
    {
      "cell_type": "markdown",
      "metadata": {
        "id": "2EJdwSczvDGV"
      },
      "source": [
        "##MODELO4RF"
      ]
    },
    {
      "cell_type": "code",
      "execution_count": null,
      "metadata": {
        "colab": {
          "background_save": true
        },
        "id": "W0XBYvSAvCjP"
      },
      "outputs": [],
      "source": [
        "# Crear DataFrame base\n",
        "df_modelo = df.copy()\n",
        "\n",
        "# Añadir lags más útiles según el análisis\n",
        "df_modelo[\"cargo de regulacion_t-1\"] = df_modelo[\"cargo de regulación\"].shift(1)\n",
        "df_modelo[\"cargo de regulacion_t-2\"] = df_modelo[\"cargo de regulación\"].shift(2)\n",
        "df_modelo[\"cargo de regulacion_t-3\"] = df_modelo[\"cargo de regulación\"].shift(3)\n",
        "df_modelo[\"cargo de regulacion_t-4\"] = df_modelo[\"cargo de regulación\"].shift(4)\n",
        "df_modelo[\"cargo de regulacion_t-5\"] = df_modelo[\"cargo de regulación\"].shift(5)\n",
        "df_modelo[\"Hydro_t-1\"] = df_modelo[\"Hydro\"].shift(1)\n",
        "df_modelo[\"Hydro_t-2\"] = df_modelo[\"Hydro\"].shift(2)\n",
        "df_modelo[\"Hydro_t-3\"] = df_modelo[\"Hydro\"].shift(3)\n",
        "df_modelo[\"Solar_t-1\"] = df_modelo[\"Solar\"].shift(1)\n",
        "df_modelo[\"Solar_t-2\"] = df_modelo[\"Solar\"].shift(2)\n",
        "df_modelo[\"Solar_t-3\"] = df_modelo[\"Solar\"].shift(3)\n",
        "df_modelo[\"Pumping_t-1\"] = df_modelo[\"Pumping\"].shift(1)\n",
        "df_modelo[\"Pumping_t-2\"] = df_modelo[\"Pumping\"].shift(2)\n",
        "df_modelo[\"Pumping_t-3\"] = df_modelo[\"Pumping\"].shift(3)\n",
        "df_modelo[\"Pumping_t-4\"] = df_modelo[\"Pumping\"].shift(4)\n",
        "df_modelo[\"media_cargo_por_hora_t-1\"] = df_modelo[\"media_cargo_por_hora\"].shift(1)\n",
        "\n",
        "\n",
        "\n",
        "# Añadir la media histórica por hora\n",
        "df_modelo[\"media_cargo_por_hora\"] = df[\"media_cargo_por_hora\"]\n",
        "\n",
        "# Eliminar filas con NaNs generados por los lags\n",
        "df_modelo = df_modelo.dropna()\n",
        "\n",
        "# Variables predictoras y target\n",
        "X = df_modelo[[\"cargo de regulacion_t-1\",\"cargo de regulacion_t-2\", \"cargo de regulacion_t-3\", \"cargo de regulacion_t-4\", \"cargo de regulacion_t-5\", \"Hydro\",\n",
        "                \"Hydro_t-1\",\"Hydro_t-2\", \"Hydro_t-3\", \"Solar\",\"Solar_t-1\", \"Solar_t-2\", \"Solar_t-3\", \"media_cargo_por_hora\", \"media_cargo_por_hora_t-1\"]]\n",
        "#X = df_modelo.drop(columns=[\"cargo de regulación\", \"Fecha_Prev\", \"AÑO\"])  # features\n",
        "y = df_modelo[\"cargo de regulación\"]\n",
        "\n",
        "# División temporal: 80% entrenamiento, 20% test\n",
        "split_index = int(len(df_modelo) * 0.8)\n",
        "X_train, X_test = X.iloc[:split_index], X.iloc[split_index:]\n",
        "y_train, y_test = y.iloc[:split_index], y.iloc[split_index:]\n",
        "\n",
        "# Entrenar modelo RF\n",
        "modelo_rf4 = RandomForestRegressor(\n",
        "    n_estimators=100,\n",
        "    max_depth=8,\n",
        "    random_state=42\n",
        ")\n",
        "modelo_rf4.fit(X_train, y_train)\n",
        "y_pred = modelo_rf4.predict(X_test)\n",
        "\n",
        "# Evaluación\n",
        "mae9 = mean_absolute_error(y_test, y_pred)\n",
        "rmse9 = np.sqrt(mean_squared_error(y_test, y_pred))\n",
        "\n",
        "# Visualización\n",
        "plt.figure(figsize=(14, 5))\n",
        "plt.plot(y_test.index, y_test, label=\"Observado\", alpha=0.7)\n",
        "plt.plot(y_test.index, y_pred, label=\"Predicción XGBoost (con lags + media)\", color=\"orange\", alpha=0.7)\n",
        "plt.title(\"Predicción del Cargo de Regulación con XGBoost (lags + media horaria)\")\n",
        "plt.xlabel(\"Fecha y hora\")\n",
        "plt.ylabel(\"€\")\n",
        "plt.legend()\n",
        "plt.grid(True)\n",
        "plt.tight_layout()\n",
        "plt.show()\n",
        "\n",
        "mae9, rmse9"
      ]
    },
    {
      "cell_type": "code",
      "execution_count": null,
      "metadata": {
        "colab": {
          "background_save": true
        },
        "id": "aI6MfT8jxK37"
      },
      "outputs": [],
      "source": [
        "# Extraer la importancia de cada variable\n",
        "importancias = modelo_rf4.feature_importances_\n",
        "nombres_columnas = X_train.columns\n",
        "\n",
        "# Crear DataFrame con resultados\n",
        "df_importancia = pd.DataFrame({\n",
        "    'Variable': nombres_columnas,\n",
        "    'Importancia': importancias\n",
        "}).sort_values(by=\"Importancia\", ascending=False)\n",
        "\n",
        "# Visualización\n",
        "plt.figure(figsize=(10, 8))\n",
        "sns.barplot(x=\"Importancia\", y=\"Variable\", data=df_importancia.head(20), palette=\"viridis\")\n",
        "plt.title(\"Importancia de las Variables en el Modelo Random Forest\")\n",
        "plt.xlabel(\"Importancia relativa\")\n",
        "plt.ylabel(\"Variable\")\n",
        "plt.tight_layout()\n",
        "plt.grid(True)\n",
        "plt.show()\n"
      ]
    },
    {
      "cell_type": "code",
      "execution_count": null,
      "metadata": {
        "colab": {
          "background_save": true
        },
        "id": "rJ0W4Vw6xLT_"
      },
      "outputs": [],
      "source": [
        "# Crear una figura combinada con test histórico + semana futura\n",
        "fig, ax = plt.subplots(figsize=(16, 6))\n",
        "\n",
        "# 1. Parte histórica: y_test vs predicción\n",
        "ax.plot(y_test.index, y_test, label=\"Observado\", alpha=0.7)\n",
        "ax.plot(y_test.index, y_pred, label=\"Predicción XGBoost\", color=\"orange\", alpha=0.7)\n",
        "\n",
        "# 2. Parte futura: predicción con intervalo\n",
        "residuos = y_test - y_pred\n",
        "std_error = residuos.std()\n",
        "\n",
        "X_future = X_test.tail(168).copy()\n",
        "y_future_pred = modelo_rf4.predict(X_future)\n",
        "last_index = y_test.index[-1]\n",
        "\n",
        "# Crear índice extendido para la semana futura\n",
        "future_index = range(last_index + 1, last_index + 1 + 168)\n",
        "\n",
        "# Agregar al gráfico\n",
        "ax.plot(future_index, y_future_pred, label=\"Predicción futura\", color=\"red\")\n",
        "ax.fill_between(future_index,\n",
        "                y_future_pred - 1.96 * std_error,\n",
        "                y_future_pred + 1.96 * std_error,\n",
        "                color=\"red\", alpha=0.2, label=\"IC 95%\")\n",
        "\n",
        "# Etiquetas y leyenda\n",
        "ax.set_title(\"Predicción del Cargo de Regulación: Observado, Actual y Futura\")\n",
        "ax.set_xlabel(\"Índice de tiempo\")\n",
        "ax.set_ylabel(\"€\")\n",
        "ax.grid(True)\n",
        "ax.legend()\n",
        "plt.tight_layout()\n",
        "plt.show()"
      ]
    },
    {
      "cell_type": "markdown",
      "metadata": {
        "id": "LS1zNhcVxos8"
      },
      "source": [
        "##MODELO5RF"
      ]
    },
    {
      "cell_type": "code",
      "execution_count": null,
      "metadata": {
        "colab": {
          "background_save": true
        },
        "id": "2rEXHg9axoL2"
      },
      "outputs": [],
      "source": [
        "# Crear DataFrame base\n",
        "df_modelo = df.copy()\n",
        "\n",
        "# Añadir lags más útiles según el análisis\n",
        "df_modelo[\"cargo de regulacion_t-1\"] = df_modelo[\"cargo de regulación\"].shift(1)\n",
        "df_modelo[\"cargo de regulacion_t-2\"] = df_modelo[\"cargo de regulación\"].shift(2)\n",
        "df_modelo[\"cargo de regulacion_t-3\"] = df_modelo[\"cargo de regulación\"].shift(3)\n",
        "df_modelo[\"cargo de regulacion_t-4\"] = df_modelo[\"cargo de regulación\"].shift(4)\n",
        "\n",
        "df_modelo[\"lag_23\"] = df_modelo[\"cargo de regulación\"].shift(23)\n",
        "df_modelo[\"lag_24\"] = df_modelo[\"cargo de regulación\"].shift(24)\n",
        "\n",
        "df_modelo[\"Solar_t-1\"] = df_modelo[\"Solar\"].shift(1)\n",
        "df_modelo[\"Solar_t-2\"] = df_modelo[\"Solar\"].shift(2)\n",
        "df_modelo[\"Solar_t-3\"] = df_modelo[\"Solar\"].shift(3)\n",
        "\n",
        "df_modelo[\"media_cargo_por_hora_t-1\"] = df_modelo[\"media_cargo_por_hora\"].shift(1)\n",
        "\n",
        "\n",
        "\n",
        "# Añadir la media histórica por hora\n",
        "df_modelo[\"media_cargo_por_hora\"] = df[\"media_cargo_por_hora\"]\n",
        "\n",
        "# Eliminar filas con NaNs generados por los lags\n",
        "df_modelo = df_modelo.dropna()\n",
        "\n",
        "# Variables predictoras y target\n",
        "X = df_modelo[[\"cargo de regulacion_t-1\",\"cargo de regulacion_t-2\", \"cargo de regulacion_t-3\", \"cargo de regulacion_t-4\",\"Hydro\",\n",
        "               \"Solar\", \"media_cargo_por_hora\", \"media_cargo_por_hora_t-1\"]]\n",
        "#X = df_modelo.drop(columns=[\"cargo de regulación\", \"Fecha_Prev\", \"AÑO\"])  # features\n",
        "y = df_modelo[\"cargo de regulación\"]\n",
        "\n",
        "# División temporal: 80% entrenamiento, 20% test\n",
        "split_index = int(len(df_modelo) * 0.8)\n",
        "X_train, X_test = X.iloc[:split_index], X.iloc[split_index:]\n",
        "y_train, y_test = y.iloc[:split_index], y.iloc[split_index:]\n",
        "\n",
        "# Entrenar modelo RF\n",
        "modelo_rf5 = RandomForestRegressor(\n",
        "    n_estimators=100,\n",
        "    max_depth=8,\n",
        "    random_state=42\n",
        ")\n",
        "modelo_rf5.fit(X_train, y_train)\n",
        "y_pred = modelo_rf5.predict(X_test)\n",
        "\n",
        "# Evaluación\n",
        "mae9 = mean_absolute_error(y_test, y_pred)\n",
        "rmse9 = np.sqrt(mean_squared_error(y_test, y_pred))\n",
        "\n",
        "# Visualización\n",
        "plt.figure(figsize=(14, 5))\n",
        "plt.plot(y_test.index, y_test, label=\"Observado\", alpha=0.7)\n",
        "plt.plot(y_test.index, y_pred, label=\"Predicción XGBoost (con lags + media)\", color=\"orange\", alpha=0.7)\n",
        "plt.title(\"Predicción del Cargo de Regulación con XGBoost (lags + media horaria)\")\n",
        "plt.xlabel(\"Fecha y hora\")\n",
        "plt.ylabel(\"€\")\n",
        "plt.legend()\n",
        "plt.grid(True)\n",
        "plt.tight_layout()\n",
        "plt.show()\n",
        "\n",
        "mae9, rmse9"
      ]
    },
    {
      "cell_type": "code",
      "execution_count": null,
      "metadata": {
        "colab": {
          "background_save": true
        },
        "id": "PVVZOtfcyGoG"
      },
      "outputs": [],
      "source": [
        "# Extraer la importancia de cada variable\n",
        "importancias = modelo_rf5.feature_importances_\n",
        "nombres_columnas = X_train.columns\n",
        "\n",
        "# Crear DataFrame con resultados\n",
        "df_importancia = pd.DataFrame({\n",
        "    'Variable': nombres_columnas,\n",
        "    'Importancia': importancias\n",
        "}).sort_values(by=\"Importancia\", ascending=False)\n",
        "\n",
        "# Visualización\n",
        "plt.figure(figsize=(10, 8))\n",
        "sns.barplot(x=\"Importancia\", y=\"Variable\", data=df_importancia.head(20), palette=\"viridis\")\n",
        "plt.title(\"Importancia de las Variables en el Modelo Random Forest\")\n",
        "plt.xlabel(\"Importancia relativa\")\n",
        "plt.ylabel(\"Variable\")\n",
        "plt.tight_layout()\n",
        "plt.grid(True)\n",
        "plt.show()\n"
      ]
    },
    {
      "cell_type": "code",
      "execution_count": null,
      "metadata": {
        "colab": {
          "background_save": true
        },
        "id": "mE5t0qWQyG9v"
      },
      "outputs": [],
      "source": [
        "# Crear una figura combinada con test histórico + semana futura\n",
        "fig, ax = plt.subplots(figsize=(16, 6))\n",
        "\n",
        "# 1. Parte histórica: y_test vs predicción\n",
        "ax.plot(y_test.index, y_test, label=\"Observado\", alpha=0.7)\n",
        "ax.plot(y_test.index, y_pred, label=\"Predicción XGBoost\", color=\"orange\", alpha=0.7)\n",
        "\n",
        "# 2. Parte futura: predicción con intervalo\n",
        "residuos = y_test - y_pred\n",
        "std_error = residuos.std()\n",
        "\n",
        "X_future = X_test.tail(168).copy()\n",
        "y_future_pred = modelo_rf5.predict(X_future)\n",
        "last_index = y_test.index[-1]\n",
        "\n",
        "# Crear índice extendido para la semana futura\n",
        "future_index = range(last_index + 1, last_index + 1 + 168)\n",
        "\n",
        "# Agregar al gráfico\n",
        "ax.plot(future_index, y_future_pred, label=\"Predicción futura\", color=\"red\")\n",
        "ax.fill_between(future_index,\n",
        "                y_future_pred - 1.96 * std_error,\n",
        "                y_future_pred + 1.96 * std_error,\n",
        "                color=\"red\", alpha=0.2, label=\"IC 95%\")\n",
        "\n",
        "# Etiquetas y leyenda\n",
        "ax.set_title(\"Predicción del Cargo de Regulación: Observado, Actual y Futura\")\n",
        "ax.set_xlabel(\"Índice de tiempo\")\n",
        "ax.set_ylabel(\"€\")\n",
        "ax.grid(True)\n",
        "ax.legend()\n",
        "plt.tight_layout()\n",
        "plt.show()"
      ]
    },
    {
      "cell_type": "markdown",
      "metadata": {
        "id": "uOyW2Eql4dn9"
      },
      "source": [
        "#CNN"
      ]
    },
    {
      "cell_type": "code",
      "execution_count": null,
      "metadata": {
        "colab": {
          "background_save": true
        },
        "id": "Mdf2LSEz4cw0"
      },
      "outputs": [],
      "source": [
        "import pandas as pd\n",
        "import numpy as np\n",
        "from sklearn.preprocessing import MinMaxScaler\n",
        "from sklearn.model_selection import train_test_split\n",
        "from tensorflow.keras.models import Sequential\n",
        "from tensorflow.keras.layers import Conv1D, MaxPooling1D, LSTM, Dense, Dropout\n",
        "\n",
        "# Crear DataFrame base\n",
        "df_modelo = df.copy()\n",
        "\n",
        "# Añadir lags más útiles según el análisis\n",
        "df_modelo[\"Solar_t\"] = df_modelo[\"Solar\"]\n",
        "df_modelo[\"Solar_t-1\"] = df_modelo[\"Solar\"].shift(1)\n",
        "df_modelo[\"Solar_t-2\"] = df_modelo[\"Solar\"].shift(2)\n",
        "df_modelo[\"Wind_t\"] = df_modelo[\"Wind\"]\n",
        "df_modelo[\"Wind_t-1\"] = df_modelo[\"Wind\"].shift(1)\n",
        "df_modelo[\"Imports_t\"] = df_modelo[\"Imports\"]\n",
        "df_modelo[\"Imports_t-1\"] = df_modelo[\"Imports\"].shift(1)\n",
        "df_modelo[\"Hydro_t-1\"] = df_modelo[\"Hydro\"].shift(1)\n",
        "df_modelo[\"pool\"] = df_modelo[\"pool\"]\n",
        "df_modelo[\"cargo de regulacion_t-1\"] = df_modelo[\"cargo de regulación\"].shift(1)\n",
        "\n",
        "\n",
        "# Añadir la media histórica por hora\n",
        "df_modelo[\"media_cargo_por_hora\"] = df[\"media_cargo_por_hora\"]\n",
        "\n",
        "# Eliminar filas con NaNs generados por los lags\n",
        "df_modelo = df_modelo.dropna()\n",
        "\n",
        "# Variables predictoras y target\n",
        "X = df_modelo[[\"Solar_t\", \"Solar_t-1\",\"Solar_t-2\", \"Wind_t\",\"Wind_t-1\",\"Imports_t\", \"Imports_t-1\", \"pool\",\n",
        "               \"Hydro_t-1\", \"Hydro\", \"cargo de regulacion_t-1\", \"media_cargo_por_hora\", \"desviacion total\"]]\n",
        "#X = df_modelo.drop(columns=[\"cargo de regulación\", \"Fecha_Prev\", \"AÑO\"])  # features\n",
        "y = df_modelo[\"cargo de regulación\"]\n",
        "\n",
        "# Forzar a numérico, reemplazando errores con NaN y luego eliminándolos\n",
        "for col in X.columns:\n",
        "    X[col] = pd.to_numeric(X[col], errors='coerce')\n",
        "\n",
        "y = pd.to_numeric(y, errors='coerce')\n",
        "\n",
        "# Eliminar filas con valores faltantes (por conversiones fallidas)\n",
        "X = X.dropna()\n",
        "y = y[X.index]  # Asegurar sincronía\n",
        "\n",
        "# Seleccionar columnas relevantes\n",
        "features = X # Puedes agregar más: ['pool', 'wind', 'solar', 'biomasa', ...]\n",
        "target = y\n",
        "\n",
        "# Normalización\n",
        "scaler_x = MinMaxScaler()\n",
        "scaler_y = MinMaxScaler()\n",
        "X_scaled = scaler_x.fit_transform(features)\n",
        "y_scaled = scaler_y.fit_transform(y.values.reshape(-1, 1))\n",
        "\n",
        "# Crear secuencias para la red LSTM\n",
        "def create_sequences(X, y, time_steps=24):\n",
        "    Xs, ys = [], []\n",
        "    for i in range(len(X) - time_steps):\n",
        "        Xs.append(X[i:(i + time_steps)])\n",
        "        ys.append(y[i + time_steps])\n",
        "    return np.array(Xs), np.array(ys)\n",
        "\n",
        "time_steps = 24\n",
        "X_seq, y_seq = create_sequences(X_scaled, y_scaled, time_steps)\n",
        "\n",
        "# Dividir los datos\n",
        "X_train, X_test, y_train, y_test = train_test_split(X_seq, y_seq, test_size=0.2, random_state=42)\n",
        "\n",
        "# Crear el modelo CNN + LSTM\n",
        "model = Sequential()\n",
        "model.add(Conv1D(filters=128, kernel_size=3, activation='relu', input_shape=(time_steps, X_seq.shape[2])))\n",
        "model.add(MaxPooling1D(pool_size=2))\n",
        "model.add(LSTM(50, return_sequences=False))\n",
        "model.add(Dropout(0.3))\n",
        "model.add(Dense(1))\n",
        "model.compile(optimizer='adam', loss='mse')\n",
        "\n",
        "# Entrenar el modelo\n",
        "model.fit(X_train, y_train, epochs=20, batch_size=64, validation_split=0.1, verbose=1)\n",
        "\n",
        "# Evaluación\n",
        "loss = model.evaluate(X_test, y_test)\n",
        "print(f\"Test Loss: {loss}\")\n",
        "\n",
        "# Predicciones\n",
        "y_pred_scaled = model.predict(X_test)\n",
        "y_pred = scaler_y.inverse_transform(y_pred_scaled)\n",
        "y_true = scaler_y.inverse_transform(y_test)\n",
        "\n",
        "# Comparar\n",
        "import matplotlib.pyplot as plt\n",
        "plt.plot(y_true[:200], label='Real')\n",
        "plt.plot(y_pred[:200], label='Predicho')\n",
        "plt.legend()\n",
        "plt.title(\"Comparación de valores reales y predichos\")\n",
        "plt.show()\n"
      ]
    },
    {
      "cell_type": "code",
      "execution_count": null,
      "metadata": {
        "colab": {
          "background_save": true
        },
        "id": "6YA7ZvSi4h4W"
      },
      "outputs": [],
      "source": [
        "rmse = np.sqrt(mean_squared_error(y_true, y_pred))\n",
        "print(f\"RMSE: {rmse:.2f}\")"
      ]
    },
    {
      "cell_type": "markdown",
      "metadata": {
        "id": "DU20YwD8_FLS"
      },
      "source": [
        "#LSTM"
      ]
    },
    {
      "cell_type": "code",
      "execution_count": null,
      "metadata": {
        "colab": {
          "background_save": true
        },
        "id": "cc8mfv2x8IxC"
      },
      "outputs": [],
      "source": [
        "import pandas as pd\n",
        "import numpy as np\n",
        "from sklearn.preprocessing import MinMaxScaler\n",
        "from sklearn.model_selection import train_test_split\n",
        "from sklearn.metrics import mean_squared_error\n",
        "from tensorflow.keras.models import Sequential\n",
        "from tensorflow.keras.layers import LSTM, Dense, Dropout\n",
        "from tensorflow.keras.losses import Huber\n",
        "from tensorflow.keras.callbacks import EarlyStopping\n",
        "import matplotlib.pyplot as plt\n",
        "\n",
        "# === PREPROCESADO ===\n",
        "\n",
        "# Suponiendo que df ya está cargado\n",
        "df_modelo = df.copy()\n",
        "df_modelo[\"Solar_t\"] = df_modelo[\"Solar\"]\n",
        "df_modelo[\"Solar_t-1\"] = df_modelo[\"Solar\"].shift(1)\n",
        "df_modelo[\"Solar_t-2\"] = df_modelo[\"Solar\"].shift(2)\n",
        "df_modelo[\"Wind_t\"] = df_modelo[\"Wind\"]\n",
        "df_modelo[\"Wind_t-1\"] = df_modelo[\"Wind\"].shift(1)\n",
        "df_modelo[\"Imports_t\"] = df_modelo[\"Imports\"]\n",
        "df_modelo[\"Imports_t-1\"] = df_modelo[\"Imports\"].shift(1)\n",
        "df_modelo[\"Hydro_t-1\"] = df_modelo[\"Hydro\"].shift(1)\n",
        "df_modelo[\"pool\"] = df_modelo[\"pool\"]\n",
        "df_modelo[\"cargo de regulacion_t-1\"] = df_modelo[\"cargo de regulación\"].shift(1)\n",
        "df_modelo[\"media_cargo_por_hora\"] = df[\"media_cargo_por_hora\"]\n",
        "\n",
        "df_modelo = df_modelo.dropna()\n",
        "\n",
        "X = df_modelo[[\"Solar_t\", \"Solar_t-1\", \"Solar_t-2\", \"Wind_t\", \"Wind_t-1\", \"Imports_t\", \"Imports_t-1\",\n",
        "               \"pool\", \"Hydro_t-1\", \"Hydro\", \"cargo de regulacion_t-1\", \"media_cargo_por_hora\", \"desviacion total\"]]\n",
        "y = df_modelo[\"cargo de regulación\"]\n",
        "\n",
        "# Convertir a numérico\n",
        "X = X.copy()\n",
        "for col in X.columns:\n",
        "    X[col] = pd.to_numeric(X[col], errors='coerce')\n",
        "y = pd.to_numeric(y, errors='coerce')\n",
        "\n",
        "X = X.dropna()\n",
        "y = y[X.index]\n",
        "\n",
        "# Normalizar\n",
        "scaler_x = MinMaxScaler()\n",
        "scaler_y = MinMaxScaler()\n",
        "X_scaled = scaler_x.fit_transform(X)\n",
        "y_scaled = scaler_y.fit_transform(y.values.reshape(-1, 1))\n",
        "\n",
        "# === CREACIÓN DE SECUENCIAS ===\n",
        "\n",
        "def create_sequences(X, y, time_steps=48):\n",
        "    Xs, ys = [], []\n",
        "    for i in range(len(X) - time_steps):\n",
        "        Xs.append(X[i:(i + time_steps)])\n",
        "        ys.append(y[i + time_steps])\n",
        "    return np.array(Xs), np.array(ys)\n",
        "\n",
        "X_seq, y_seq = create_sequences(X_scaled, y_scaled, time_steps=48)\n",
        "\n",
        "# Train/test split\n",
        "X_train, X_test, y_train, y_test = train_test_split(X_seq, y_seq, test_size=0.2, random_state=42)\n",
        "\n",
        "# === MODELO LSTM ===\n",
        "\n",
        "model = Sequential()\n",
        "model.add(LSTM(128, input_shape=(X_train.shape[1], X_train.shape[2]), return_sequences=False))\n",
        "model.add(Dropout(0.3))\n",
        "model.add(Dense(1))\n",
        "model.compile(optimizer='adam', loss=Huber(delta=100))\n",
        "\n",
        "# Early stopping\n",
        "early_stop = EarlyStopping(monitor='val_loss', patience=5, restore_best_weights=True)\n",
        "\n",
        "# Entrenamiento\n",
        "model.fit(X_train, y_train, epochs=40, batch_size=32, validation_split=0.1, callbacks=[early_stop], verbose=1)\n",
        "\n",
        "# === EVALUACIÓN ===\n",
        "y_pred_scaled = model.predict(X_test)\n",
        "y_pred = scaler_y.inverse_transform(y_pred_scaled)\n",
        "y_true = scaler_y.inverse_transform(y_test)\n",
        "\n",
        "rmse = np.sqrt(mean_squared_error(y_true, y_pred))\n",
        "print(f\"RMSE: {rmse:.2f}\")\n",
        "\n",
        "# === VISUALIZACIÓN ===\n",
        "plt.figure(figsize=(10, 5))\n",
        "plt.plot(y_true[:200], label='Real')\n",
        "plt.plot(y_pred[:200], label='Predicho')\n",
        "plt.title(\"Predicción del cargo de regulación (solo LSTM)\")\n",
        "plt.xlabel(\"Muestras\")\n",
        "plt.ylabel(\"€\")\n",
        "plt.legend()\n",
        "plt.grid(True)\n",
        "plt.tight_layout()\n",
        "plt.show()\n"
      ]
    }
  ],
  "metadata": {
    "colab": {
      "collapsed_sections": [
        "Sle0aWguAK2G",
        "SjPpN_s1cGR7",
        "KBV-exgg8V3l",
        "7on9wzYgQcE6",
        "asWEDYhwiGEu",
        "wU70w0IesQ9_",
        "mN7oxJupubGA",
        "2EJdwSczvDGV",
        "LS1zNhcVxos8",
        "tzj65bD9zHvw",
        "CsWQWU3e2GQb"
      ],
      "provenance": [],
      "include_colab_link": true
    },
    "kernelspec": {
      "display_name": "Python 3",
      "name": "python3"
    },
    "language_info": {
      "name": "python"
    }
  },
  "nbformat": 4,
  "nbformat_minor": 0
}